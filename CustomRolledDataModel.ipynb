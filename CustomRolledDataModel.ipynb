{
  "nbformat": 4,
  "nbformat_minor": 0,
  "metadata": {
    "colab": {
      "name": "CustomRolledDataModel.ipynb",
      "provenance": [],
      "machine_shape": "hm",
      "collapsed_sections": []
    },
    "kernelspec": {
      "name": "python3",
      "display_name": "Python 3"
    },
    "language_info": {
      "name": "python"
    },
    "accelerator": "GPU"
  },
  "cells": [
    {
      "cell_type": "markdown",
      "source": [
        "In this python notebooks, we train 3 models as per the paper.\n",
        "\n",
        "1. Bag Of tricks\n",
        "2. CNN Model\n",
        "3. CNN 3 layer architecture.\n",
        "\n",
        "These models are used for 'regular' ICM codes as outputs. \n",
        "\n",
        "More details can be found in the paper."
      ],
      "metadata": {
        "id": "4YGIAUVbEDdJ"
      }
    },
    {
      "cell_type": "markdown",
      "source": [
        "Mount Google Drive"
      ],
      "metadata": {
        "id": "jHEOx1tpEGPe"
      }
    },
    {
      "cell_type": "code",
      "execution_count": 1,
      "metadata": {
        "colab": {
          "base_uri": "https://localhost:8080/"
        },
        "id": "zhZqYA0g3lca",
        "outputId": "ea46466e-4e3d-4085-8ca1-9a18624f6968"
      },
      "outputs": [
        {
          "output_type": "stream",
          "name": "stdout",
          "text": [
            "Drive already mounted at /content/drive/; to attempt to forcibly remount, call drive.mount(\"/content/drive/\", force_remount=True).\n"
          ]
        },
        {
          "output_type": "execute_result",
          "data": {
            "text/plain": [
              "['data',\n",
              " 'BOTKeras.ipynb',\n",
              " 'CNNModel.ipynb',\n",
              " 'CNN3Layer.ipynb',\n",
              " 'Reference',\n",
              " 'storedModels',\n",
              " '.ipynb_checkpoints',\n",
              " 'Preprocess.ipynb',\n",
              " 'BOTModel.ipynb',\n",
              " 'RegularYModelReference.ipynb',\n",
              " 'BOTModelReference.ipynb']"
            ]
          },
          "metadata": {},
          "execution_count": 1
        }
      ],
      "source": [
        "from google.colab import drive\n",
        "import os\n",
        "drive.mount(\"/content/drive/\")\n",
        "\n",
        "mypath = \"drive/My Drive/CS598DLHProject\"\n",
        "os.listdir(mypath)"
      ]
    },
    {
      "cell_type": "markdown",
      "source": [
        "Unzip the data"
      ],
      "metadata": {
        "id": "3ag-U6Zd_z79"
      }
    },
    {
      "cell_type": "code",
      "source": [
        "# Already unzipped. Not required\n",
        "\n",
        "# !unzip drive/My\\ Drive/CS598DLHProject/data/original_paper_data/data.npz.zip -d drive/My\\ Drive/CS598DLHProject/data/original_paper_data/"
      ],
      "metadata": {
        "colab": {
          "base_uri": "https://localhost:8080/"
        },
        "id": "HxxK1Msd7_8m",
        "outputId": "f4acb25d-a966-4e09-e8bb-cf00d97f72eb"
      },
      "execution_count": null,
      "outputs": [
        {
          "output_type": "stream",
          "name": "stdout",
          "text": [
            "Archive:  drive/My Drive/CS598DLHProject/data/original_paper_data/data.npz.zip\n",
            "  inflating: drive/My Drive/CS598DLHProject/data/original_paper_data/data.npz  \n",
            "  inflating: drive/My Drive/CS598DLHProject/data/original_paper_data/__MACOSX/._data.npz  \n"
          ]
        }
      ]
    },
    {
      "cell_type": "markdown",
      "source": [
        "Convert the model into relevant attributes. (X, Y_rolled, Y_regular and categories)"
      ],
      "metadata": {
        "id": "ZYcUZ3n__2vU"
      }
    },
    {
      "cell_type": "code",
      "source": [
        "# Used to convert input data data.npz into x,cats,rolled,regular but not required now\n",
        "\n",
        "# import gzip\n",
        "# import pickle as pkl\n",
        "# import gc\n",
        "\n",
        "# import numpy as np\n",
        "\n",
        "# DATA_DIR = mypath + \"/data/\"\n",
        "\n",
        "# DATA_PATH = DATA_DIR + \"preprocessed_3004/\"\n",
        "# DATA_NPZ_FILE = f'{DATA_PATH}data.npz'\n",
        "\n",
        "# print ('reading from saved file Data.npz: ', DATA_NPZ_FILE)\n",
        "# data = np.load(DATA_NPZ_FILE)\n",
        "# lst = data.files\n",
        "# for item in lst:\n",
        "#     print(item)\n",
        "#     # print(data[item])\n",
        "\n",
        "# print(\"done\")\n",
        "# x = data['x']\n",
        "# cats = data['cats']\n",
        "# y_rolled = data['rol_y']\n",
        "# y_full = data['reg_y']\n",
        "\n",
        "# print(x.shape)\n",
        "# print(cats.shape)\n",
        "# print(y_rolled.shape)\n",
        "# print(y_full.shape)"
      ],
      "metadata": {
        "colab": {
          "base_uri": "https://localhost:8080/"
        },
        "id": "EtkpylYD4LpV",
        "outputId": "0eb3226a-4a11-4d42-943d-2f75a9ea9fd1"
      },
      "execution_count": 2,
      "outputs": [
        {
          "output_type": "stream",
          "name": "stdout",
          "text": [
            "reading from saved file Data.npz:  drive/My Drive/CS598DLHProject/data/preprocessed_3004/data.npz\n",
            "x\n",
            "cats\n",
            "reg_y\n",
            "rol_y\n",
            "done\n",
            "(399623, 2199)\n",
            "(399623, 15)\n",
            "(399623, 781)\n",
            "(399623, 4103)\n"
          ]
        }
      ]
    },
    {
      "cell_type": "markdown",
      "source": [
        "Distribute the data into Train/Test/Validation data and save the data"
      ],
      "metadata": {
        "id": "yvgigUpF__Ri"
      }
    },
    {
      "cell_type": "code",
      "source": [
        "# Temporary block to convert data.npz into train/val/test\n",
        "\n",
        "# texts = x\n",
        "# texts_categories = cats\n",
        "# regular_labels = y_full\n",
        "# rolled_labels = y_rolled\n",
        "\n",
        "# # Split\n",
        "# s1 = int(.64 * len(texts))\n",
        "# s2 = int(.8 * len(texts))\n",
        "# x_train, x_val, x_test = np.split(texts, [s1, s2])\n",
        "# cats_train, cats_val, cats_test = np.split(texts_categories, [s1, s2])\n",
        "# reg_y_train, reg_y_val, reg_y_test = np.split(regular_labels, [s1, s2])\n",
        "# rol_y_train, rol_y_val, rol_y_test = np.split(rolled_labels, [s1, s2])\n",
        "\n",
        "# np.savez(f'{DATA_PATH}dataTrainValTest.npz',\n",
        "#           x_train=x_train, x_val=x_val, x_test=x_test,\n",
        "#           cats_train=cats_train, cats_val=cats_val, cats_test=cats_test,\n",
        "#           reg_y_train=reg_y_train, reg_y_val=reg_y_val, reg_y_test=reg_y_test,\n",
        "#           rol_y_train=rol_y_train, rol_y_val=rol_y_val, rol_y_test=rol_y_test)"
      ],
      "metadata": {
        "id": "fY_ebvGIDCUb"
      },
      "execution_count": 3,
      "outputs": []
    },
    {
      "cell_type": "markdown",
      "source": [
        "Pull in data for training"
      ],
      "metadata": {
        "id": "6MTM1HUSAFNC"
      }
    },
    {
      "cell_type": "code",
      "source": [
        "import gzip\n",
        "import pickle as pkl\n",
        "import gc\n",
        "\n",
        "import numpy as np\n",
        "\n",
        "DATA_DIR = mypath + \"/data/\"\n",
        "\n",
        "DATA_PATH = DATA_DIR + \"preprocessed_3004/\"\n",
        "DATA_NPZ_FILE = f'{DATA_PATH}dataTrainValTest.npz'\n",
        "\n",
        "print ('reading from saved file dataTrainValTest.npz: ', DATA_NPZ_FILE)\n",
        "data = np.load(DATA_NPZ_FILE)\n",
        "lst = data.files\n",
        "for item in lst:\n",
        "    print(item)\n",
        "    # print(data[item])\n",
        "\n",
        "print(\"done\")\n",
        "x_train_load = data['x_train']\n",
        "x_val_load = data['x_val']\n",
        "# x_test = data['x_test']\n",
        "\n",
        "ratio = 1\n",
        "x_train = x_train_load[:int(ratio*x_train_load.shape[0])]\n",
        "x_val = x_val_load[:int(ratio*x_val_load.shape[0])]\n",
        "# x_test = x_test\n",
        "\n",
        "del x_train_load\n",
        "del x_val_load\n",
        "\n",
        "print('x_train: ' , x_train.shape)\n",
        "print('x_val: ', x_val.shape)\n",
        "\n",
        "\n",
        "rol_y_train = data['rol_y_train']\n",
        "rol_y_val = data['rol_y_val']\n",
        "# rol_y_test = data['rol_y_test']\n",
        "\n",
        "print('rol_y_train: ', rol_y_train.shape)\n",
        "print('rol_y_val: ', rol_y_val.shape)\n",
        "# print('rol_y_test: ', rol_y_test.shape)\n",
        "\n",
        "y_train = rol_y_train[:int(ratio*rol_y_train.shape[0])]\n",
        "y_val = rol_y_val[:int(ratio*rol_y_val.shape[0])]\n",
        "\n",
        "print('y_train: ', y_train.shape)\n",
        "print('y_val: ', y_val.shape)\n",
        "# print('reg_y_test: ', reg_y_test.shape)\n",
        "\n",
        "del data\n",
        "del lst\n",
        "del rol_y_train\n",
        "del rol_y_val\n",
        "\n",
        "\n",
        "gc.collect()\n"
      ],
      "metadata": {
        "colab": {
          "base_uri": "https://localhost:8080/"
        },
        "id": "5tuEO6OKGt2h",
        "outputId": "7303a414-c0ec-44e5-e733-8a2fdcf5ffc5"
      },
      "execution_count": 2,
      "outputs": [
        {
          "output_type": "stream",
          "name": "stdout",
          "text": [
            "reading from saved file dataTrainValTest.npz:  drive/My Drive/CS598DLHProject/data/preprocessed_3004/dataTrainValTest.npz\n",
            "x_train\n",
            "x_val\n",
            "x_test\n",
            "cats_train\n",
            "cats_val\n",
            "cats_test\n",
            "reg_y_train\n",
            "reg_y_val\n",
            "reg_y_test\n",
            "rol_y_train\n",
            "rol_y_val\n",
            "rol_y_test\n",
            "done\n",
            "x_train:  (255758, 2199)\n",
            "x_val:  (63940, 2199)\n",
            "rol_y_train:  (255758, 781)\n",
            "rol_y_val:  (63940, 781)\n",
            "y_train:  (255758, 781)\n",
            "y_val:  (63940, 781)\n"
          ]
        },
        {
          "output_type": "execute_result",
          "data": {
            "text/plain": [
              "43"
            ]
          },
          "metadata": {},
          "execution_count": 2
        }
      ]
    },
    {
      "cell_type": "code",
      "source": [
        "\n",
        "with open(DATA_PATH + 'row_index_dictionary.p', 'rb') as f:\n",
        "    word_index = pkl.load(f)\n",
        "    print(\"Got word index\")"
      ],
      "metadata": {
        "id": "uUKDLFA24P2M",
        "colab": {
          "base_uri": "https://localhost:8080/"
        },
        "outputId": "72ceddaa-dd76-4ec8-dbb2-7fc5be3f21e6"
      },
      "execution_count": 3,
      "outputs": [
        {
          "output_type": "stream",
          "name": "stdout",
          "text": [
            "Got word index\n"
          ]
        }
      ]
    },
    {
      "cell_type": "code",
      "source": [
        "embedding_matrix = np.load(DATA_PATH + 'embedding_matrix.p', allow_pickle=True)"
      ],
      "metadata": {
        "id": "U1opgDef4TUG"
      },
      "execution_count": 4,
      "outputs": []
    },
    {
      "cell_type": "code",
      "source": [
        "from tensorflow.keras.callbacks import Callback\n",
        "from sklearn.metrics import precision_score, recall_score, f1_score\n",
        "import numpy as np\n",
        "from tensorflow.keras.models import Sequential\n",
        "from tensorflow.keras.layers import Embedding, Dense, GlobalAveragePooling1D, Conv1D\n",
        "from tensorflow.keras.callbacks import EarlyStopping"
      ],
      "metadata": {
        "id": "T1Tc_5mJ6m0S"
      },
      "execution_count": 5,
      "outputs": []
    },
    {
      "cell_type": "code",
      "source": [
        "import keras\n",
        "\n",
        "model = Sequential()\n",
        "model.add(Embedding(len(word_index) , embedding_matrix.shape[1],\n",
        "                    weights=[embedding_matrix], input_length=x_train.shape[1],\n",
        "                    trainable=True))\n",
        "model.add(GlobalAveragePooling1D())\n",
        "model.add(Dense(y_train.shape[1], activation='sigmoid'))\n",
        "\n",
        "model.compile(loss='binary_crossentropy', optimizer='adam', metrics=[keras.metrics.Precision(), keras.metrics.Recall()])\n",
        "\n",
        "early_stopping = EarlyStopping(min_delta=.0001, patience=2)\n",
        "model.fit(x_train, y_train,\n",
        "          batch_size=32, epochs=25,\n",
        "          validation_data=[x_val, y_val],\n",
        "          callbacks=[early_stopping])\n",
        "# model.save('{}.h5'.format(filename))"
      ],
      "metadata": {
        "id": "fGX5EC--6JNq",
        "colab": {
          "base_uri": "https://localhost:8080/"
        },
        "outputId": "0d89ef9a-c561-48e0-eebb-bc9923c94627"
      },
      "execution_count": 8,
      "outputs": [
        {
          "output_type": "stream",
          "name": "stdout",
          "text": [
            "Epoch 1/25\n",
            "7993/7993 [==============================] - 126s 16ms/step - loss: 0.0611 - precision_1: 0.6837 - recall_1: 0.1160 - val_loss: 0.0595 - val_precision_1: 0.8133 - val_recall_1: 0.1141\n",
            "Epoch 2/25\n",
            "7993/7993 [==============================] - 124s 16ms/step - loss: 0.0587 - precision_1: 0.7635 - recall_1: 0.1410 - val_loss: 0.0578 - val_precision_1: 0.7729 - val_recall_1: 0.1521\n",
            "Epoch 3/25\n",
            "7993/7993 [==============================] - 124s 16ms/step - loss: 0.0571 - precision_1: 0.7627 - recall_1: 0.1678 - val_loss: 0.0565 - val_precision_1: 0.7539 - val_recall_1: 0.1813\n",
            "Epoch 4/25\n",
            "7993/7993 [==============================] - 124s 16ms/step - loss: 0.0560 - precision_1: 0.7627 - recall_1: 0.1851 - val_loss: 0.0555 - val_precision_1: 0.7276 - val_recall_1: 0.2108\n",
            "Epoch 5/25\n",
            "7993/7993 [==============================] - 124s 16ms/step - loss: 0.0550 - precision_1: 0.7660 - recall_1: 0.1976 - val_loss: 0.0546 - val_precision_1: 0.7644 - val_recall_1: 0.2035\n",
            "Epoch 6/25\n",
            "7993/7993 [==============================] - 124s 15ms/step - loss: 0.0542 - precision_1: 0.7688 - recall_1: 0.2082 - val_loss: 0.0540 - val_precision_1: 0.7733 - val_recall_1: 0.2083\n",
            "Epoch 7/25\n",
            "7993/7993 [==============================] - 124s 15ms/step - loss: 0.0535 - precision_1: 0.7719 - recall_1: 0.2175 - val_loss: 0.0534 - val_precision_1: 0.7727 - val_recall_1: 0.2191\n",
            "Epoch 8/25\n",
            "7993/7993 [==============================] - 124s 15ms/step - loss: 0.0529 - precision_1: 0.7746 - recall_1: 0.2263 - val_loss: 0.0528 - val_precision_1: 0.7785 - val_recall_1: 0.2249\n",
            "Epoch 9/25\n",
            "7993/7993 [==============================] - 125s 16ms/step - loss: 0.0523 - precision_1: 0.7775 - recall_1: 0.2345 - val_loss: 0.0523 - val_precision_1: 0.7758 - val_recall_1: 0.2322\n",
            "Epoch 10/25\n",
            "7993/7993 [==============================] - 124s 15ms/step - loss: 0.0518 - precision_1: 0.7797 - recall_1: 0.2423 - val_loss: 0.0519 - val_precision_1: 0.7858 - val_recall_1: 0.2373\n",
            "Epoch 11/25\n",
            "7993/7993 [==============================] - 123s 15ms/step - loss: 0.0513 - precision_1: 0.7825 - recall_1: 0.2494 - val_loss: 0.0515 - val_precision_1: 0.7837 - val_recall_1: 0.2435\n",
            "Epoch 12/25\n",
            "7993/7993 [==============================] - 124s 15ms/step - loss: 0.0508 - precision_1: 0.7852 - recall_1: 0.2563 - val_loss: 0.0511 - val_precision_1: 0.7973 - val_recall_1: 0.2442\n",
            "Epoch 13/25\n",
            "7993/7993 [==============================] - 123s 15ms/step - loss: 0.0504 - precision_1: 0.7874 - recall_1: 0.2627 - val_loss: 0.0508 - val_precision_1: 0.7882 - val_recall_1: 0.2556\n",
            "Epoch 14/25\n",
            "7993/7993 [==============================] - 124s 15ms/step - loss: 0.0500 - precision_1: 0.7894 - recall_1: 0.2689 - val_loss: 0.0504 - val_precision_1: 0.7863 - val_recall_1: 0.2646\n",
            "Epoch 15/25\n",
            "7993/7993 [==============================] - 123s 15ms/step - loss: 0.0496 - precision_1: 0.7920 - recall_1: 0.2749 - val_loss: 0.0501 - val_precision_1: 0.7724 - val_recall_1: 0.2804\n",
            "Epoch 16/25\n",
            "7993/7993 [==============================] - 123s 15ms/step - loss: 0.0493 - precision_1: 0.7940 - recall_1: 0.2803 - val_loss: 0.0499 - val_precision_1: 0.7910 - val_recall_1: 0.2724\n",
            "Epoch 17/25\n",
            "7993/7993 [==============================] - 124s 15ms/step - loss: 0.0490 - precision_1: 0.7958 - recall_1: 0.2857 - val_loss: 0.0496 - val_precision_1: 0.7862 - val_recall_1: 0.2795\n",
            "Epoch 18/25\n",
            "7993/7993 [==============================] - 124s 15ms/step - loss: 0.0486 - precision_1: 0.7980 - recall_1: 0.2906 - val_loss: 0.0493 - val_precision_1: 0.7803 - val_recall_1: 0.2911\n",
            "Epoch 19/25\n",
            "7993/7993 [==============================] - 124s 15ms/step - loss: 0.0483 - precision_1: 0.7997 - recall_1: 0.2954 - val_loss: 0.0491 - val_precision_1: 0.7893 - val_recall_1: 0.2900\n",
            "Epoch 20/25\n",
            "7993/7993 [==============================] - 123s 15ms/step - loss: 0.0481 - precision_1: 0.8010 - recall_1: 0.3001 - val_loss: 0.0489 - val_precision_1: 0.7923 - val_recall_1: 0.2914\n",
            "Epoch 21/25\n",
            "7993/7993 [==============================] - 123s 15ms/step - loss: 0.0478 - precision_1: 0.8026 - recall_1: 0.3043 - val_loss: 0.0487 - val_precision_1: 0.7889 - val_recall_1: 0.2982\n",
            "Epoch 22/25\n",
            "7993/7993 [==============================] - 123s 15ms/step - loss: 0.0475 - precision_1: 0.8042 - recall_1: 0.3086 - val_loss: 0.0485 - val_precision_1: 0.7788 - val_recall_1: 0.3106\n",
            "Epoch 23/25\n",
            "7993/7993 [==============================] - 123s 15ms/step - loss: 0.0473 - precision_1: 0.8055 - recall_1: 0.3124 - val_loss: 0.0483 - val_precision_1: 0.8083 - val_recall_1: 0.2935\n",
            "Epoch 24/25\n",
            "7993/7993 [==============================] - 123s 15ms/step - loss: 0.0470 - precision_1: 0.8071 - recall_1: 0.3164 - val_loss: 0.0482 - val_precision_1: 0.7955 - val_recall_1: 0.3050\n",
            "Epoch 25/25\n",
            "7993/7993 [==============================] - 123s 15ms/step - loss: 0.0468 - precision_1: 0.8083 - recall_1: 0.3199 - val_loss: 0.0480 - val_precision_1: 0.7832 - val_recall_1: 0.3192\n"
          ]
        },
        {
          "output_type": "execute_result",
          "data": {
            "text/plain": [
              "<keras.callbacks.History at 0x7fafc20880d0>"
            ]
          },
          "metadata": {},
          "execution_count": 8
        }
      ]
    },
    {
      "cell_type": "code",
      "source": [
        "# model.save(DATA_PATH + 'BOTModel.h5')"
      ],
      "metadata": {
        "id": "mieTexec7XDq"
      },
      "execution_count": 9,
      "outputs": []
    },
    {
      "cell_type": "code",
      "source": [
        "import keras\n",
        "\n",
        "model = Sequential()\n",
        "model.add(Embedding(len(word_index) , embedding_matrix.shape[1],\n",
        "                    weights=[embedding_matrix], input_length=x_train.shape[1],\n",
        "                    trainable=True))\n",
        "model.add(Conv1D(250, 3, activation='relu'))\n",
        "model.add(GlobalAveragePooling1D())\n",
        "model.add(Dense(y_train.shape[1], activation='sigmoid'))\n",
        "\n",
        "model.compile(loss='binary_crossentropy', optimizer='adam', metrics=[keras.metrics.Precision(), keras.metrics.Recall()])\n",
        "\n",
        "\n",
        "early_stopping = EarlyStopping(min_delta=.0001, patience=2)\n",
        "model.fit(x_train, y_train,\n",
        "          batch_size=32, epochs=25,\n",
        "          validation_data=[x_val, y_val],\n",
        "          callbacks=[early_stopping])"
      ],
      "metadata": {
        "colab": {
          "base_uri": "https://localhost:8080/"
        },
        "id": "QEE351WmKGad",
        "outputId": "596d345d-77ff-4938-86c3-2835898c990b"
      },
      "execution_count": 6,
      "outputs": [
        {
          "output_type": "stream",
          "name": "stdout",
          "text": [
            "Epoch 1/25\n",
            "7993/7993 [==============================] - 498s 61ms/step - loss: 0.0587 - precision: 0.7078 - recall: 0.1638 - val_loss: 0.0559 - val_precision: 0.7623 - val_recall: 0.1931\n",
            "Epoch 2/25\n",
            "7993/7993 [==============================] - 482s 60ms/step - loss: 0.0545 - precision: 0.7595 - recall: 0.2150 - val_loss: 0.0533 - val_precision: 0.7704 - val_recall: 0.2245\n",
            "Epoch 3/25\n",
            "7993/7993 [==============================] - 480s 60ms/step - loss: 0.0522 - precision: 0.7684 - recall: 0.2453 - val_loss: 0.0516 - val_precision: 0.7767 - val_recall: 0.2513\n",
            "Epoch 4/25\n",
            "7993/7993 [==============================] - 478s 60ms/step - loss: 0.0505 - precision: 0.7780 - recall: 0.2698 - val_loss: 0.0502 - val_precision: 0.7920 - val_recall: 0.2671\n",
            "Epoch 5/25\n",
            "7993/7993 [==============================] - 478s 60ms/step - loss: 0.0492 - precision: 0.7868 - recall: 0.2906 - val_loss: 0.0491 - val_precision: 0.7783 - val_recall: 0.2991\n",
            "Epoch 6/25\n",
            "7993/7993 [==============================] - 477s 60ms/step - loss: 0.0480 - precision: 0.7943 - recall: 0.3089 - val_loss: 0.0482 - val_precision: 0.7957 - val_recall: 0.3037\n",
            "Epoch 7/25\n",
            "7993/7993 [==============================] - 477s 60ms/step - loss: 0.0470 - precision: 0.8008 - recall: 0.3252 - val_loss: 0.0475 - val_precision: 0.7901 - val_recall: 0.3249\n",
            "Epoch 8/25\n",
            "7993/7993 [==============================] - 477s 60ms/step - loss: 0.0460 - precision: 0.8068 - recall: 0.3397 - val_loss: 0.0468 - val_precision: 0.7985 - val_recall: 0.3323\n",
            "Epoch 9/25\n",
            "7993/7993 [==============================] - 477s 60ms/step - loss: 0.0452 - precision: 0.8122 - recall: 0.3529 - val_loss: 0.0462 - val_precision: 0.7990 - val_recall: 0.3461\n",
            "Epoch 10/25\n",
            "7993/7993 [==============================] - 477s 60ms/step - loss: 0.0444 - precision: 0.8166 - recall: 0.3649 - val_loss: 0.0457 - val_precision: 0.7921 - val_recall: 0.3617\n",
            "Epoch 11/25\n",
            "7993/7993 [==============================] - 479s 60ms/step - loss: 0.0437 - precision: 0.8209 - recall: 0.3762 - val_loss: 0.0452 - val_precision: 0.7957 - val_recall: 0.3713\n",
            "Epoch 12/25\n",
            "7993/7993 [==============================] - 481s 60ms/step - loss: 0.0430 - precision: 0.8246 - recall: 0.3867 - val_loss: 0.0449 - val_precision: 0.8081 - val_recall: 0.3695\n",
            "Epoch 13/25\n",
            "7993/7993 [==============================] - 478s 60ms/step - loss: 0.0424 - precision: 0.8281 - recall: 0.3967 - val_loss: 0.0445 - val_precision: 0.7947 - val_recall: 0.3887\n",
            "Epoch 14/25\n",
            "7993/7993 [==============================] - 479s 60ms/step - loss: 0.0418 - precision: 0.8316 - recall: 0.4061 - val_loss: 0.0441 - val_precision: 0.8023 - val_recall: 0.3899\n",
            "Epoch 15/25\n",
            "7993/7993 [==============================] - 480s 60ms/step - loss: 0.0412 - precision: 0.8342 - recall: 0.4148 - val_loss: 0.0438 - val_precision: 0.7973 - val_recall: 0.4008\n",
            "Epoch 16/25\n",
            "7993/7993 [==============================] - 477s 60ms/step - loss: 0.0406 - precision: 0.8373 - recall: 0.4236 - val_loss: 0.0436 - val_precision: 0.7933 - val_recall: 0.4109\n",
            "Epoch 17/25\n",
            "7993/7993 [==============================] - 476s 60ms/step - loss: 0.0401 - precision: 0.8400 - recall: 0.4315 - val_loss: 0.0434 - val_precision: 0.8016 - val_recall: 0.4079\n",
            "Epoch 18/25\n",
            "7993/7993 [==============================] - 477s 60ms/step - loss: 0.0396 - precision: 0.8424 - recall: 0.4395 - val_loss: 0.0432 - val_precision: 0.8050 - val_recall: 0.4101\n",
            "Epoch 19/25\n",
            "7993/7993 [==============================] - 477s 60ms/step - loss: 0.0391 - precision: 0.8451 - recall: 0.4468 - val_loss: 0.0429 - val_precision: 0.7989 - val_recall: 0.4219\n",
            "Epoch 20/25\n",
            "7993/7993 [==============================] - 478s 60ms/step - loss: 0.0386 - precision: 0.8474 - recall: 0.4543 - val_loss: 0.0428 - val_precision: 0.8068 - val_recall: 0.4190\n",
            "Epoch 21/25\n",
            "7993/7993 [==============================] - 479s 60ms/step - loss: 0.0381 - precision: 0.8495 - recall: 0.4612 - val_loss: 0.0427 - val_precision: 0.7870 - val_recall: 0.4378\n",
            "Epoch 22/25\n",
            "7993/7993 [==============================] - 479s 60ms/step - loss: 0.0377 - precision: 0.8515 - recall: 0.4682 - val_loss: 0.0426 - val_precision: 0.8006 - val_recall: 0.4298\n",
            "Epoch 23/25\n",
            "7993/7993 [==============================] - 479s 60ms/step - loss: 0.0372 - precision: 0.8536 - recall: 0.4746 - val_loss: 0.0425 - val_precision: 0.8081 - val_recall: 0.4289\n",
            "Epoch 24/25\n",
            "7993/7993 [==============================] - 479s 60ms/step - loss: 0.0368 - precision: 0.8554 - recall: 0.4811 - val_loss: 0.0424 - val_precision: 0.8005 - val_recall: 0.4384\n",
            "Epoch 25/25\n",
            "7993/7993 [==============================] - 479s 60ms/step - loss: 0.0364 - precision: 0.8574 - recall: 0.4876 - val_loss: 0.0424 - val_precision: 0.7904 - val_recall: 0.4480\n"
          ]
        },
        {
          "output_type": "execute_result",
          "data": {
            "text/plain": [
              "<keras.callbacks.History at 0x7ff6302ba9d0>"
            ]
          },
          "metadata": {},
          "execution_count": 6
        }
      ]
    },
    {
      "cell_type": "code",
      "source": [
        "# model.save(DATA_PATH + 'CNNBaseline.h5')"
      ],
      "metadata": {
        "id": "WEdhC-TMKXQT"
      },
      "execution_count": 7,
      "outputs": []
    },
    {
      "cell_type": "code",
      "source": [
        "import keras\n",
        "from tensorflow.keras.callbacks import EarlyStopping\n",
        "from tensorflow.keras.models import Model\n",
        "from tensorflow.keras.layers import Input, Embedding, Dense, Conv1D, GlobalMaxPooling1D, concatenate\n",
        "\n",
        "embedding_input = Input(shape=(x_train.shape[1],), dtype=np.int32)\n",
        "embedding_layer = Embedding(len(word_index), embedding_matrix.shape[1],\n",
        "                                weights=[embedding_matrix], input_length=x_train.shape[1],\n",
        "                                trainable=True)(embedding_input)\n",
        "x1 = Conv1D(250, 2, activation='relu')(embedding_layer)\n",
        "x1 = GlobalMaxPooling1D()(x1)\n",
        "x2 = Conv1D(250, 3, activation='relu')(embedding_layer)\n",
        "x2 = GlobalMaxPooling1D()(x2)\n",
        "x3 = Conv1D(250, 4, activation='relu')(embedding_layer)\n",
        "x3 = GlobalMaxPooling1D()(x3)\n",
        "x = concatenate([x1, x2, x3])\n",
        "output = Dense(y_train.shape[1], activation='sigmoid')(x)\n",
        "\n",
        "model = Model(inputs=[embedding_input], outputs=[output])\n",
        "\n",
        "model.compile(loss='binary_crossentropy', optimizer='adam', metrics=[keras.metrics.Precision(), keras.metrics.Recall()])\n",
        "\n",
        "\n",
        "early_stopping = EarlyStopping(min_delta=.0001, patience=10)\n",
        "model.fit(x_train, y_train,\n",
        "          batch_size=32, epochs=25,\n",
        "          validation_data=[x_val, y_val],\n",
        "          callbacks=[early_stopping])"
      ],
      "metadata": {
        "colab": {
          "base_uri": "https://localhost:8080/"
        },
        "id": "JNWub6feRXeI",
        "outputId": "dd70297a-3810-4638-cc61-31deb6dfc3da"
      },
      "execution_count": 6,
      "outputs": [
        {
          "output_type": "stream",
          "name": "stdout",
          "text": [
            "Epoch 1/25\n",
            "7993/7993 [==============================] - 661s 81ms/step - loss: 0.0557 - precision: 0.6923 - recall: 0.2873 - val_loss: 0.0470 - val_precision: 0.7809 - val_recall: 0.3455\n",
            "Epoch 2/25\n",
            "7993/7993 [==============================] - 648s 81ms/step - loss: 0.0450 - precision: 0.7934 - recall: 0.3738 - val_loss: 0.0442 - val_precision: 0.7950 - val_recall: 0.3894\n",
            "Epoch 3/25\n",
            "7993/7993 [==============================] - 647s 81ms/step - loss: 0.0427 - precision: 0.8119 - recall: 0.4027 - val_loss: 0.0432 - val_precision: 0.8125 - val_recall: 0.3986\n",
            "Epoch 4/25\n",
            "7993/7993 [==============================] - 647s 81ms/step - loss: 0.0414 - precision: 0.8212 - recall: 0.4180 - val_loss: 0.0428 - val_precision: 0.8245 - val_recall: 0.4019\n",
            "Epoch 5/25\n",
            "7993/7993 [==============================] - 647s 81ms/step - loss: 0.0407 - precision: 0.8266 - recall: 0.4275 - val_loss: 0.0427 - val_precision: 0.8122 - val_recall: 0.4189\n",
            "Epoch 6/25\n",
            "7993/7993 [==============================] - 647s 81ms/step - loss: 0.0401 - precision: 0.8310 - recall: 0.4345 - val_loss: 0.0426 - val_precision: 0.8113 - val_recall: 0.4224\n",
            "Epoch 7/25\n",
            "7993/7993 [==============================] - 647s 81ms/step - loss: 0.0397 - precision: 0.8345 - recall: 0.4400 - val_loss: 0.0427 - val_precision: 0.8200 - val_recall: 0.4192\n",
            "Epoch 8/25\n",
            "7993/7993 [==============================] - 647s 81ms/step - loss: 0.0393 - precision: 0.8371 - recall: 0.4451 - val_loss: 0.0428 - val_precision: 0.8216 - val_recall: 0.4231\n",
            "Epoch 9/25\n",
            "7993/7993 [==============================] - 646s 81ms/step - loss: 0.0390 - precision: 0.8391 - recall: 0.4488 - val_loss: 0.0429 - val_precision: 0.8029 - val_recall: 0.4362\n",
            "Epoch 10/25\n",
            "7993/7993 [==============================] - 647s 81ms/step - loss: 0.0387 - precision: 0.8406 - recall: 0.4525 - val_loss: 0.0431 - val_precision: 0.8187 - val_recall: 0.4278\n",
            "Epoch 11/25\n",
            "7993/7993 [==============================] - 646s 81ms/step - loss: 0.0385 - precision: 0.8422 - recall: 0.4555 - val_loss: 0.0433 - val_precision: 0.8212 - val_recall: 0.4257\n",
            "Epoch 12/25\n",
            "7993/7993 [==============================] - 645s 81ms/step - loss: 0.0383 - precision: 0.8436 - recall: 0.4581 - val_loss: 0.0435 - val_precision: 0.8207 - val_recall: 0.4268\n",
            "Epoch 13/25\n",
            "7993/7993 [==============================] - 645s 81ms/step - loss: 0.0381 - precision: 0.8445 - recall: 0.4608 - val_loss: 0.0438 - val_precision: 0.8188 - val_recall: 0.4302\n",
            "Epoch 14/25\n",
            "7993/7993 [==============================] - 645s 81ms/step - loss: 0.0379 - precision: 0.8452 - recall: 0.4631 - val_loss: 0.0440 - val_precision: 0.8114 - val_recall: 0.4351\n",
            "Epoch 15/25\n",
            "7993/7993 [==============================] - 645s 81ms/step - loss: 0.0378 - precision: 0.8464 - recall: 0.4651 - val_loss: 0.0442 - val_precision: 0.8100 - val_recall: 0.4364\n"
          ]
        },
        {
          "output_type": "execute_result",
          "data": {
            "text/plain": [
              "<keras.callbacks.History at 0x7fe3d03f26d0>"
            ]
          },
          "metadata": {},
          "execution_count": 6
        }
      ]
    },
    {
      "cell_type": "code",
      "source": [
        "# model.save(DATA_PATH + 'CNN3LayerV2.h5')"
      ],
      "metadata": {
        "id": "utdbJiXhMEyk"
      },
      "execution_count": 7,
      "outputs": []
    }
  ]
}