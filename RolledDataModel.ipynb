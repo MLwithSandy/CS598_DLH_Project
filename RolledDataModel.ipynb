{
  "nbformat": 4,
  "nbformat_minor": 0,
  "metadata": {
    "colab": {
      "name": "RolledDataModel.ipynb",
      "provenance": [],
      "machine_shape": "hm",
      "collapsed_sections": []
    },
    "kernelspec": {
      "name": "python3",
      "display_name": "Python 3"
    },
    "language_info": {
      "name": "python"
    },
    "accelerator": "GPU"
  },
  "cells": [
    {
      "cell_type": "markdown",
      "source": [
        "In this python notebooks, we train 3 models as per the paper.\n",
        "\n",
        "1. Bag Of tricks\n",
        "2. CNN Model\n",
        "3. CNN 3 layer architecture.\n",
        "\n",
        "These models are used for 'regular' ICM codes as outputs. \n",
        "\n",
        "More details can be found in the paper."
      ],
      "metadata": {
        "id": "VF33Y8vGEBxZ"
      }
    },
    {
      "cell_type": "markdown",
      "source": [
        "Attach Google Drive"
      ],
      "metadata": {
        "id": "i6j-WcOqD9zC"
      }
    },
    {
      "cell_type": "code",
      "execution_count": 1,
      "metadata": {
        "colab": {
          "base_uri": "https://localhost:8080/"
        },
        "id": "zhZqYA0g3lca",
        "outputId": "654033eb-ea7b-45d8-817f-1573c992fb2d"
      },
      "outputs": [
        {
          "output_type": "stream",
          "name": "stdout",
          "text": [
            "Mounted at /content/drive/\n"
          ]
        },
        {
          "output_type": "execute_result",
          "data": {
            "text/plain": [
              "['data',\n",
              " 'BOTKeras.ipynb',\n",
              " 'CNNModel.ipynb',\n",
              " 'CNN3Layer.ipynb',\n",
              " 'Reference',\n",
              " 'storedModels',\n",
              " '.ipynb_checkpoints',\n",
              " 'Preprocess.ipynb',\n",
              " 'BOTModel.ipynb',\n",
              " 'RegularYModelReference.ipynb',\n",
              " 'BOTModelReference.ipynb',\n",
              " 'OriginalModelRegularData.ipynb',\n",
              " 'OriginalModelRolledData.ipynb']"
            ]
          },
          "metadata": {},
          "execution_count": 1
        }
      ],
      "source": [
        "from google.colab import drive\n",
        "import os\n",
        "drive.mount(\"/content/drive/\")\n",
        "\n",
        "mypath = \"drive/My Drive/CS598DLHProject\"\n",
        "os.listdir(mypath)"
      ]
    },
    {
      "cell_type": "markdown",
      "source": [
        "Unzip the data\n",
        "\n"
      ],
      "metadata": {
        "id": "Z9ctfXH4-kaU"
      }
    },
    {
      "cell_type": "code",
      "source": [
        "# Already unzipped. Not required\n",
        "\n",
        "# !unzip drive/My\\ Drive/CS598DLHProject/data/original_paper_data/data.npz.zip -d drive/My\\ Drive/CS598DLHProject/data/original_paper_data/"
      ],
      "metadata": {
        "colab": {
          "base_uri": "https://localhost:8080/"
        },
        "id": "HxxK1Msd7_8m",
        "outputId": "f4acb25d-a966-4e09-e8bb-cf00d97f72eb"
      },
      "execution_count": null,
      "outputs": [
        {
          "output_type": "stream",
          "name": "stdout",
          "text": [
            "Archive:  drive/My Drive/CS598DLHProject/data/original_paper_data/data.npz.zip\n",
            "  inflating: drive/My Drive/CS598DLHProject/data/original_paper_data/data.npz  \n",
            "  inflating: drive/My Drive/CS598DLHProject/data/original_paper_data/__MACOSX/._data.npz  \n"
          ]
        }
      ]
    },
    {
      "cell_type": "markdown",
      "source": [
        "Convert the model into relevant attributes. (X, Y_rolled, Y_regular and categories.)"
      ],
      "metadata": {
        "id": "4AUZRLpr-nb5"
      }
    },
    {
      "cell_type": "code",
      "source": [
        "# Used to convert input data data.npz into x,cats,rolled,regular but not required now\n",
        "\n",
        "# import gzip\n",
        "# import pickle as pkl\n",
        "# import gc\n",
        "\n",
        "# import numpy as np\n",
        "\n",
        "# DATA_DIR = mypath + \"/data/\"\n",
        "\n",
        "# DATA_PATH = DATA_DIR + \"preprocessed_3004/\"\n",
        "# DATA_NPZ_FILE = f'{DATA_PATH}data.npz'\n",
        "\n",
        "# print ('reading from saved file Data.npz: ', DATA_NPZ_FILE)\n",
        "# data = np.load(DATA_NPZ_FILE)\n",
        "# lst = data.files\n",
        "# for item in lst:\n",
        "#     print(item)\n",
        "#     # print(data[item])\n",
        "\n",
        "# print(\"done\")\n",
        "# x = data['x']\n",
        "# cats = data['cats']\n",
        "# y_rolled = data['rol_y']\n",
        "# y_full = data['reg_y']\n",
        "\n",
        "# print(x.shape)\n",
        "# print(cats.shape)\n",
        "# print(y_rolled.shape)\n",
        "# print(y_full.shape)"
      ],
      "metadata": {
        "colab": {
          "base_uri": "https://localhost:8080/"
        },
        "id": "EtkpylYD4LpV",
        "outputId": "0eb3226a-4a11-4d42-943d-2f75a9ea9fd1"
      },
      "execution_count": null,
      "outputs": [
        {
          "output_type": "stream",
          "name": "stdout",
          "text": [
            "reading from saved file Data.npz:  drive/My Drive/CS598DLHProject/data/preprocessed_3004/data.npz\n",
            "x\n",
            "cats\n",
            "reg_y\n",
            "rol_y\n",
            "done\n",
            "(399623, 2199)\n",
            "(399623, 15)\n",
            "(399623, 781)\n",
            "(399623, 4103)\n"
          ]
        }
      ]
    },
    {
      "cell_type": "markdown",
      "source": [
        "Distribute the data into Train/Test/Validation data and save the data\n",
        "\n"
      ],
      "metadata": {
        "id": "ny5Tag48-4sS"
      }
    },
    {
      "cell_type": "code",
      "source": [
        "# Temporary block to convert data.npz into train/val/test\n",
        "\n",
        "# texts = x\n",
        "# texts_categories = cats\n",
        "# regular_labels = y_full\n",
        "# rolled_labels = y_rolled\n",
        "\n",
        "# # Split\n",
        "# s1 = int(.64 * len(texts))\n",
        "# s2 = int(.8 * len(texts))\n",
        "# x_train, x_val, x_test = np.split(texts, [s1, s2])\n",
        "# cats_train, cats_val, cats_test = np.split(texts_categories, [s1, s2])\n",
        "# reg_y_train, reg_y_val, reg_y_test = np.split(regular_labels, [s1, s2])\n",
        "# rol_y_train, rol_y_val, rol_y_test = np.split(rolled_labels, [s1, s2])\n",
        "\n",
        "# np.savez(f'{DATA_PATH}dataTrainValTest.npz',\n",
        "#           x_train=x_train, x_val=x_val, x_test=x_test,\n",
        "#           cats_train=cats_train, cats_val=cats_val, cats_test=cats_test,\n",
        "#           reg_y_train=reg_y_train, reg_y_val=reg_y_val, reg_y_test=reg_y_test,\n",
        "#           rol_y_train=rol_y_train, rol_y_val=rol_y_val, rol_y_test=rol_y_test)"
      ],
      "metadata": {
        "id": "fY_ebvGIDCUb"
      },
      "execution_count": null,
      "outputs": []
    },
    {
      "cell_type": "markdown",
      "source": [
        "Pull in data for training"
      ],
      "metadata": {
        "id": "bSSXrJee_L8m"
      }
    },
    {
      "cell_type": "code",
      "source": [
        "import gzip\n",
        "import pickle as pkl\n",
        "import gc\n",
        "\n",
        "import numpy as np\n",
        "\n",
        "DATA_DIR = mypath + \"/data/\"\n",
        "\n",
        "DATA_PATH = DATA_DIR + \"preprocessed_3004/\"\n",
        "ORIGINAL_MODELS = DATA_PATH + \"originalModels/\"\n",
        "\n",
        "DATA_NPZ_FILE = f'{DATA_PATH}dataTrainValTest.npz'\n",
        "\n",
        "print ('reading from saved file dataTrainValTest.npz: ', DATA_NPZ_FILE)\n",
        "data = np.load(DATA_NPZ_FILE)\n",
        "lst = data.files\n",
        "for item in lst:\n",
        "    print(item)\n",
        "    # print(data[item])\n",
        "\n",
        "print(\"done\")\n",
        "x_train_load = data['x_train']\n",
        "x_val_load = data['x_val']\n",
        "# x_test = data['x_test']\n",
        "\n",
        "ratio = 1\n",
        "x_train = x_train_load[:int(ratio*x_train_load.shape[0])]\n",
        "x_val = x_val_load[:int(ratio*x_val_load.shape[0])]\n",
        "\n",
        "del x_train_load\n",
        "del x_val_load\n",
        "\n",
        "print('x_train: ' , x_train.shape)\n",
        "print('x_val: ', x_val.shape)\n",
        "\n",
        "rol_y_train = data['rol_y_train']\n",
        "rol_y_val = data['rol_y_val']\n",
        "\n",
        "print('rol_y_train: ', rol_y_train.shape)\n",
        "print('rol_y_val: ', rol_y_val.shape)\n",
        "\n",
        "y_train = rol_y_train[:int(ratio*rol_y_train.shape[0])]\n",
        "y_val = rol_y_val[:int(ratio*rol_y_val.shape[0])]\n",
        "\n",
        "print('y_train: ', y_train.shape)\n",
        "print('y_val: ', y_val.shape)\n",
        "\n",
        "del data\n",
        "del lst\n",
        "del rol_y_train\n",
        "del rol_y_val\n",
        "\n",
        "gc.collect()\n"
      ],
      "metadata": {
        "colab": {
          "base_uri": "https://localhost:8080/"
        },
        "id": "5tuEO6OKGt2h",
        "outputId": "d7592863-87a9-4710-935f-f8c19990794d"
      },
      "execution_count": 2,
      "outputs": [
        {
          "output_type": "stream",
          "name": "stdout",
          "text": [
            "reading from saved file dataTrainValTest.npz:  drive/My Drive/CS598DLHProject/data/preprocessed_3004/dataTrainValTest.npz\n",
            "x_train\n",
            "x_val\n",
            "x_test\n",
            "cats_train\n",
            "cats_val\n",
            "cats_test\n",
            "reg_y_train\n",
            "reg_y_val\n",
            "reg_y_test\n",
            "rol_y_train\n",
            "rol_y_val\n",
            "rol_y_test\n",
            "done\n",
            "x_train:  (255758, 2199)\n",
            "x_val:  (63940, 2199)\n",
            "rol_y_train:  (255758, 781)\n",
            "rol_y_val:  (63940, 781)\n",
            "y_train:  (255758, 781)\n",
            "y_val:  (63940, 781)\n"
          ]
        },
        {
          "output_type": "execute_result",
          "data": {
            "text/plain": [
              "43"
            ]
          },
          "metadata": {},
          "execution_count": 2
        }
      ]
    },
    {
      "cell_type": "code",
      "source": [
        "with open(DATA_PATH + 'row_index_dictionary.p', 'rb') as f:\n",
        "    word_index = pkl.load(f)\n",
        "    print(\"Got word index\")"
      ],
      "metadata": {
        "id": "uUKDLFA24P2M",
        "colab": {
          "base_uri": "https://localhost:8080/"
        },
        "outputId": "74bc30e9-9f28-44ad-e3cb-ecbb9145f374"
      },
      "execution_count": 3,
      "outputs": [
        {
          "output_type": "stream",
          "name": "stdout",
          "text": [
            "Got word index\n"
          ]
        }
      ]
    },
    {
      "cell_type": "code",
      "source": [
        "embedding_matrix = np.load(DATA_PATH + 'embedding_matrix.p', allow_pickle=True)"
      ],
      "metadata": {
        "id": "U1opgDef4TUG"
      },
      "execution_count": 4,
      "outputs": []
    },
    {
      "cell_type": "code",
      "source": [
        "from tensorflow.keras.callbacks import Callback\n",
        "from sklearn.metrics import precision_score, recall_score, f1_score\n",
        "import numpy as np\n",
        "from tensorflow.keras.models import Sequential\n",
        "from tensorflow.keras.layers import Embedding, Dense, GlobalAveragePooling1D, Conv1D\n",
        "from tensorflow.keras.callbacks import EarlyStopping"
      ],
      "metadata": {
        "id": "T1Tc_5mJ6m0S"
      },
      "execution_count": 5,
      "outputs": []
    },
    {
      "cell_type": "code",
      "source": [
        "import keras\n",
        "from keras.callbacks import ModelCheckpoint\n",
        "\n",
        "model = Sequential()\n",
        "model.add(Embedding(len(word_index) , embedding_matrix.shape[1],\n",
        "                    weights=[embedding_matrix], input_length=x_train.shape[1],\n",
        "                    trainable=False))\n",
        "model.add(GlobalAveragePooling1D())\n",
        "model.add(Dense(y_train.shape[1], activation='sigmoid'))\n",
        "\n",
        "model.compile(loss='binary_crossentropy', optimizer='adam', metrics=[keras.metrics.Precision(), keras.metrics.Recall()])\n",
        "early_stopping = EarlyStopping(min_delta=.0001, patience=2)\n",
        "\n",
        "filepath= ORIGINAL_MODELS + \"BOTModelOriginal-{epoch:02d}-{loss:.2f}.h5\"\n",
        "checkpoint = ModelCheckpoint(filepath, monitor='loss', verbose=1, save_best_only=False, save_weights_only=False, mode='auto', save_freq='epoch')\n",
        "\n",
        "model.fit(x_train, y_train,\n",
        "          batch_size=32, epochs=25,\n",
        "          validation_data=[x_val, y_val],\n",
        "          callbacks=[checkpoint])\n",
        "# model.save('{}.h5'.format(filename))"
      ],
      "metadata": {
        "id": "fGX5EC--6JNq",
        "colab": {
          "base_uri": "https://localhost:8080/"
        },
        "outputId": "13fb37cb-7176-4084-b220-7f397374beb6"
      },
      "execution_count": 8,
      "outputs": [
        {
          "output_type": "stream",
          "name": "stdout",
          "text": [
            "Epoch 1/25\n",
            "7982/7993 [============================>.] - ETA: 0s - loss: 0.0621 - precision_2: 0.6628 - recall_2: 0.1135\n",
            "Epoch 1: saving model to drive/My Drive/CS598DLHProject/data/preprocessed_3004/originalModels/BOTModelOriginal-01-0.06.h5\n",
            "7993/7993 [==============================] - 30s 4ms/step - loss: 0.0621 - precision_2: 0.6629 - recall_2: 0.1135 - val_loss: 0.0608 - val_precision_2: 0.9074 - val_recall_2: 0.0807\n",
            "Epoch 2/25\n",
            "7982/7993 [============================>.] - ETA: 0s - loss: 0.0608 - precision_2: 0.7128 - recall_2: 0.1164\n",
            "Epoch 2: saving model to drive/My Drive/CS598DLHProject/data/preprocessed_3004/originalModels/BOTModelOriginal-02-0.06.h5\n",
            "7993/7993 [==============================] - 29s 4ms/step - loss: 0.0608 - precision_2: 0.7126 - recall_2: 0.1165 - val_loss: 0.0606 - val_precision_2: 0.7054 - val_recall_2: 0.1203\n",
            "Epoch 3/25\n",
            "7993/7993 [==============================] - ETA: 0s - loss: 0.0606 - precision_2: 0.7133 - recall_2: 0.1202\n",
            "Epoch 3: saving model to drive/My Drive/CS598DLHProject/data/preprocessed_3004/originalModels/BOTModelOriginal-03-0.06.h5\n",
            "7993/7993 [==============================] - 29s 4ms/step - loss: 0.0606 - precision_2: 0.7133 - recall_2: 0.1202 - val_loss: 0.0605 - val_precision_2: 0.7030 - val_recall_2: 0.1318\n",
            "Epoch 4/25\n",
            "7990/7993 [============================>.] - ETA: 0s - loss: 0.0605 - precision_2: 0.7143 - recall_2: 0.1224\n",
            "Epoch 4: saving model to drive/My Drive/CS598DLHProject/data/preprocessed_3004/originalModels/BOTModelOriginal-04-0.06.h5\n",
            "7993/7993 [==============================] - 29s 4ms/step - loss: 0.0605 - precision_2: 0.7143 - recall_2: 0.1224 - val_loss: 0.0604 - val_precision_2: 0.7498 - val_recall_2: 0.1060\n",
            "Epoch 5/25\n",
            "7992/7993 [============================>.] - ETA: 0s - loss: 0.0604 - precision_2: 0.7149 - recall_2: 0.1244\n",
            "Epoch 5: saving model to drive/My Drive/CS598DLHProject/data/preprocessed_3004/originalModels/BOTModelOriginal-05-0.06.h5\n",
            "7993/7993 [==============================] - 29s 4ms/step - loss: 0.0604 - precision_2: 0.7149 - recall_2: 0.1244 - val_loss: 0.0601 - val_precision_2: 0.6843 - val_recall_2: 0.1325\n",
            "Epoch 6/25\n",
            "7981/7993 [============================>.] - ETA: 0s - loss: 0.0603 - precision_2: 0.7180 - recall_2: 0.1256\n",
            "Epoch 6: saving model to drive/My Drive/CS598DLHProject/data/preprocessed_3004/originalModels/BOTModelOriginal-06-0.06.h5\n",
            "7993/7993 [==============================] - 29s 4ms/step - loss: 0.0603 - precision_2: 0.7180 - recall_2: 0.1255 - val_loss: 0.0601 - val_precision_2: 0.7997 - val_recall_2: 0.1112\n",
            "Epoch 7/25\n",
            "7984/7993 [============================>.] - ETA: 0s - loss: 0.0602 - precision_2: 0.7176 - recall_2: 0.1271\n",
            "Epoch 7: saving model to drive/My Drive/CS598DLHProject/data/preprocessed_3004/originalModels/BOTModelOriginal-07-0.06.h5\n",
            "7993/7993 [==============================] - 29s 4ms/step - loss: 0.0602 - precision_2: 0.7176 - recall_2: 0.1271 - val_loss: 0.0601 - val_precision_2: 0.7433 - val_recall_2: 0.1211\n",
            "Epoch 8/25\n",
            "7989/7993 [============================>.] - ETA: 0s - loss: 0.0601 - precision_2: 0.7179 - recall_2: 0.1285\n",
            "Epoch 8: saving model to drive/My Drive/CS598DLHProject/data/preprocessed_3004/originalModels/BOTModelOriginal-08-0.06.h5\n",
            "7993/7993 [==============================] - 29s 4ms/step - loss: 0.0601 - precision_2: 0.7179 - recall_2: 0.1285 - val_loss: 0.0600 - val_precision_2: 0.6964 - val_recall_2: 0.1408\n",
            "Epoch 9/25\n",
            "7984/7993 [============================>.] - ETA: 0s - loss: 0.0600 - precision_2: 0.7187 - recall_2: 0.1297\n",
            "Epoch 9: saving model to drive/My Drive/CS598DLHProject/data/preprocessed_3004/originalModels/BOTModelOriginal-09-0.06.h5\n",
            "7993/7993 [==============================] - 29s 4ms/step - loss: 0.0600 - precision_2: 0.7186 - recall_2: 0.1297 - val_loss: 0.0601 - val_precision_2: 0.7295 - val_recall_2: 0.1298\n",
            "Epoch 10/25\n",
            "7980/7993 [============================>.] - ETA: 0s - loss: 0.0600 - precision_2: 0.7202 - recall_2: 0.1304\n",
            "Epoch 10: saving model to drive/My Drive/CS598DLHProject/data/preprocessed_3004/originalModels/BOTModelOriginal-10-0.06.h5\n",
            "7993/7993 [==============================] - 29s 4ms/step - loss: 0.0600 - precision_2: 0.7202 - recall_2: 0.1305 - val_loss: 0.0599 - val_precision_2: 0.6728 - val_recall_2: 0.1503\n",
            "Epoch 11/25\n",
            "7991/7993 [============================>.] - ETA: 0s - loss: 0.0599 - precision_2: 0.7205 - recall_2: 0.1313\n",
            "Epoch 11: saving model to drive/My Drive/CS598DLHProject/data/preprocessed_3004/originalModels/BOTModelOriginal-11-0.06.h5\n",
            "7993/7993 [==============================] - 29s 4ms/step - loss: 0.0599 - precision_2: 0.7205 - recall_2: 0.1313 - val_loss: 0.0596 - val_precision_2: 0.8313 - val_recall_2: 0.1065\n",
            "Epoch 12/25\n",
            "7978/7993 [============================>.] - ETA: 0s - loss: 0.0599 - precision_2: 0.7195 - recall_2: 0.1324\n",
            "Epoch 12: saving model to drive/My Drive/CS598DLHProject/data/preprocessed_3004/originalModels/BOTModelOriginal-12-0.06.h5\n",
            "7993/7993 [==============================] - 29s 4ms/step - loss: 0.0599 - precision_2: 0.7195 - recall_2: 0.1324 - val_loss: 0.0599 - val_precision_2: 0.6722 - val_recall_2: 0.1501\n",
            "Epoch 13/25\n",
            "7991/7993 [============================>.] - ETA: 0s - loss: 0.0598 - precision_2: 0.7219 - recall_2: 0.1328\n",
            "Epoch 13: saving model to drive/My Drive/CS598DLHProject/data/preprocessed_3004/originalModels/BOTModelOriginal-13-0.06.h5\n",
            "7993/7993 [==============================] - 29s 4ms/step - loss: 0.0598 - precision_2: 0.7219 - recall_2: 0.1328 - val_loss: 0.0596 - val_precision_2: 0.7068 - val_recall_2: 0.1412\n",
            "Epoch 14/25\n",
            "7980/7993 [============================>.] - ETA: 0s - loss: 0.0598 - precision_2: 0.7213 - recall_2: 0.1337\n",
            "Epoch 14: saving model to drive/My Drive/CS598DLHProject/data/preprocessed_3004/originalModels/BOTModelOriginal-14-0.06.h5\n",
            "7993/7993 [==============================] - 29s 4ms/step - loss: 0.0598 - precision_2: 0.7213 - recall_2: 0.1337 - val_loss: 0.0598 - val_precision_2: 0.7336 - val_recall_2: 0.1313\n",
            "Epoch 15/25\n",
            "7979/7993 [============================>.] - ETA: 0s - loss: 0.0597 - precision_2: 0.7218 - recall_2: 0.1345\n",
            "Epoch 15: saving model to drive/My Drive/CS598DLHProject/data/preprocessed_3004/originalModels/BOTModelOriginal-15-0.06.h5\n",
            "7993/7993 [==============================] - 29s 4ms/step - loss: 0.0597 - precision_2: 0.7218 - recall_2: 0.1345 - val_loss: 0.0595 - val_precision_2: 0.7061 - val_recall_2: 0.1492\n",
            "Epoch 16/25\n",
            "7983/7993 [============================>.] - ETA: 0s - loss: 0.0597 - precision_2: 0.7228 - recall_2: 0.1351\n",
            "Epoch 16: saving model to drive/My Drive/CS598DLHProject/data/preprocessed_3004/originalModels/BOTModelOriginal-16-0.06.h5\n",
            "7993/7993 [==============================] - 29s 4ms/step - loss: 0.0597 - precision_2: 0.7229 - recall_2: 0.1350 - val_loss: 0.0595 - val_precision_2: 0.7349 - val_recall_2: 0.1358\n",
            "Epoch 17/25\n",
            "7983/7993 [============================>.] - ETA: 0s - loss: 0.0596 - precision_2: 0.7221 - recall_2: 0.1356\n",
            "Epoch 17: saving model to drive/My Drive/CS598DLHProject/data/preprocessed_3004/originalModels/BOTModelOriginal-17-0.06.h5\n",
            "7993/7993 [==============================] - 29s 4ms/step - loss: 0.0596 - precision_2: 0.7221 - recall_2: 0.1356 - val_loss: 0.0594 - val_precision_2: 0.7129 - val_recall_2: 0.1443\n",
            "Epoch 18/25\n",
            "7990/7993 [============================>.] - ETA: 0s - loss: 0.0596 - precision_2: 0.7234 - recall_2: 0.1362\n",
            "Epoch 18: saving model to drive/My Drive/CS598DLHProject/data/preprocessed_3004/originalModels/BOTModelOriginal-18-0.06.h5\n",
            "7993/7993 [==============================] - 29s 4ms/step - loss: 0.0596 - precision_2: 0.7234 - recall_2: 0.1362 - val_loss: 0.0594 - val_precision_2: 0.7295 - val_recall_2: 0.1354\n",
            "Epoch 19/25\n",
            "7986/7993 [============================>.] - ETA: 0s - loss: 0.0595 - precision_2: 0.7238 - recall_2: 0.1368\n",
            "Epoch 19: saving model to drive/My Drive/CS598DLHProject/data/preprocessed_3004/originalModels/BOTModelOriginal-19-0.06.h5\n",
            "7993/7993 [==============================] - 29s 4ms/step - loss: 0.0595 - precision_2: 0.7237 - recall_2: 0.1368 - val_loss: 0.0595 - val_precision_2: 0.7307 - val_recall_2: 0.1394\n",
            "Epoch 20/25\n",
            "7986/7993 [============================>.] - ETA: 0s - loss: 0.0595 - precision_2: 0.7233 - recall_2: 0.1377\n",
            "Epoch 20: saving model to drive/My Drive/CS598DLHProject/data/preprocessed_3004/originalModels/BOTModelOriginal-20-0.06.h5\n",
            "7993/7993 [==============================] - 29s 4ms/step - loss: 0.0595 - precision_2: 0.7233 - recall_2: 0.1378 - val_loss: 0.0593 - val_precision_2: 0.8171 - val_recall_2: 0.1142\n",
            "Epoch 21/25\n",
            "7979/7993 [============================>.] - ETA: 0s - loss: 0.0595 - precision_2: 0.7251 - recall_2: 0.1376\n",
            "Epoch 21: saving model to drive/My Drive/CS598DLHProject/data/preprocessed_3004/originalModels/BOTModelOriginal-21-0.06.h5\n",
            "7993/7993 [==============================] - 29s 4ms/step - loss: 0.0595 - precision_2: 0.7251 - recall_2: 0.1376 - val_loss: 0.0595 - val_precision_2: 0.6877 - val_recall_2: 0.1626\n",
            "Epoch 22/25\n",
            "7986/7993 [============================>.] - ETA: 0s - loss: 0.0594 - precision_2: 0.7226 - recall_2: 0.1390\n",
            "Epoch 22: saving model to drive/My Drive/CS598DLHProject/data/preprocessed_3004/originalModels/BOTModelOriginal-22-0.06.h5\n",
            "7993/7993 [==============================] - 31s 4ms/step - loss: 0.0594 - precision_2: 0.7226 - recall_2: 0.1390 - val_loss: 0.0593 - val_precision_2: 0.7294 - val_recall_2: 0.1343\n",
            "Epoch 23/25\n",
            "7990/7993 [============================>.] - ETA: 0s - loss: 0.0594 - precision_2: 0.7244 - recall_2: 0.1389\n",
            "Epoch 23: saving model to drive/My Drive/CS598DLHProject/data/preprocessed_3004/originalModels/BOTModelOriginal-23-0.06.h5\n",
            "7993/7993 [==============================] - 32s 4ms/step - loss: 0.0594 - precision_2: 0.7244 - recall_2: 0.1389 - val_loss: 0.0592 - val_precision_2: 0.6880 - val_recall_2: 0.1569\n",
            "Epoch 24/25\n",
            "7991/7993 [============================>.] - ETA: 0s - loss: 0.0594 - precision_2: 0.7252 - recall_2: 0.1392\n",
            "Epoch 24: saving model to drive/My Drive/CS598DLHProject/data/preprocessed_3004/originalModels/BOTModelOriginal-24-0.06.h5\n",
            "7993/7993 [==============================] - 30s 4ms/step - loss: 0.0594 - precision_2: 0.7252 - recall_2: 0.1392 - val_loss: 0.0592 - val_precision_2: 0.7932 - val_recall_2: 0.1215\n",
            "Epoch 25/25\n",
            "7987/7993 [============================>.] - ETA: 0s - loss: 0.0593 - precision_2: 0.7242 - recall_2: 0.1400\n",
            "Epoch 25: saving model to drive/My Drive/CS598DLHProject/data/preprocessed_3004/originalModels/BOTModelOriginal-25-0.06.h5\n",
            "7993/7993 [==============================] - 31s 4ms/step - loss: 0.0593 - precision_2: 0.7242 - recall_2: 0.1399 - val_loss: 0.0592 - val_precision_2: 0.8559 - val_recall_2: 0.1040\n"
          ]
        },
        {
          "output_type": "execute_result",
          "data": {
            "text/plain": [
              "<keras.callbacks.History at 0x7f38027afa90>"
            ]
          },
          "metadata": {},
          "execution_count": 8
        }
      ]
    },
    {
      "cell_type": "code",
      "source": [
        "# model.save(ORIGINAL_MODELS + 'BOTModelOriginal.h5')"
      ],
      "metadata": {
        "id": "mieTexec7XDq"
      },
      "execution_count": 9,
      "outputs": []
    },
    {
      "cell_type": "code",
      "source": [
        "import keras\n",
        "from keras.callbacks import ModelCheckpoint\n",
        "\n",
        "\n",
        "model = Sequential()\n",
        "model.add(Embedding(len(word_index) , embedding_matrix.shape[1],\n",
        "                    weights=[embedding_matrix], input_length=x_train.shape[1],\n",
        "                    trainable=False))\n",
        "model.add(Conv1D(250, 3, activation='relu'))\n",
        "model.add(GlobalAveragePooling1D())\n",
        "model.add(Dense(y_train.shape[1], activation='sigmoid'))\n",
        "\n",
        "model.compile(loss='binary_crossentropy', optimizer='adam', metrics=[keras.metrics.Precision(), keras.metrics.Recall()])\n",
        "\n",
        "\n",
        "early_stopping = EarlyStopping(min_delta=.0001, patience=10)\n",
        "\n",
        "filepath= ORIGINAL_MODELS + \"CNNModelOriginal-{epoch:02d}-{loss:.2f}.h5\"\n",
        "checkpoint = ModelCheckpoint(filepath, monitor='loss', verbose=1, save_best_only=False, save_weights_only=False, mode='auto', save_freq='epoch')\n",
        "\n",
        "model.fit(x_train, y_train,\n",
        "          batch_size=32, epochs=25,\n",
        "          validation_data=[x_val, y_val],\n",
        "          callbacks=[early_stopping, checkpoint])"
      ],
      "metadata": {
        "colab": {
          "base_uri": "https://localhost:8080/"
        },
        "id": "QEE351WmKGad",
        "outputId": "b816f7ae-4203-4fa4-e58d-b2797fdac3d8"
      },
      "execution_count": 10,
      "outputs": [
        {
          "output_type": "stream",
          "name": "stdout",
          "text": [
            "Epoch 1/25\n",
            "7993/7993 [==============================] - ETA: 0s - loss: 0.0595 - precision_3: 0.6994 - recall_3: 0.1480\n",
            "Epoch 1: saving model to drive/My Drive/CS598DLHProject/data/preprocessed_3004/originalModels/CNNModelOriginal-01-0.06.h5\n",
            "7993/7993 [==============================] - 153s 18ms/step - loss: 0.0595 - precision_3: 0.6994 - recall_3: 0.1480 - val_loss: 0.0573 - val_precision_3: 0.7721 - val_recall_3: 0.1612\n",
            "Epoch 2/25\n",
            "7992/7993 [============================>.] - ETA: 0s - loss: 0.0564 - precision_3: 0.7532 - recall_3: 0.1840\n",
            "Epoch 2: saving model to drive/My Drive/CS598DLHProject/data/preprocessed_3004/originalModels/CNNModelOriginal-02-0.06.h5\n",
            "7993/7993 [==============================] - 150s 19ms/step - loss: 0.0564 - precision_3: 0.7532 - recall_3: 0.1840 - val_loss: 0.0557 - val_precision_3: 0.7626 - val_recall_3: 0.1893\n",
            "Epoch 3/25\n",
            "7991/7993 [============================>.] - ETA: 0s - loss: 0.0551 - precision_3: 0.7570 - recall_3: 0.2022\n",
            "Epoch 3: saving model to drive/My Drive/CS598DLHProject/data/preprocessed_3004/originalModels/CNNModelOriginal-03-0.06.h5\n",
            "7993/7993 [==============================] - 154s 19ms/step - loss: 0.0551 - precision_3: 0.7570 - recall_3: 0.2022 - val_loss: 0.0546 - val_precision_3: 0.7641 - val_recall_3: 0.2036\n",
            "Epoch 4/25\n",
            "7990/7993 [============================>.] - ETA: 0s - loss: 0.0541 - precision_3: 0.7597 - recall_3: 0.2144\n",
            "Epoch 4: saving model to drive/My Drive/CS598DLHProject/data/preprocessed_3004/originalModels/CNNModelOriginal-04-0.05.h5\n",
            "7993/7993 [==============================] - 155s 19ms/step - loss: 0.0541 - precision_3: 0.7597 - recall_3: 0.2144 - val_loss: 0.0539 - val_precision_3: 0.7459 - val_recall_3: 0.2262\n",
            "Epoch 5/25\n",
            "7991/7993 [============================>.] - ETA: 0s - loss: 0.0534 - precision_3: 0.7630 - recall_3: 0.2240\n",
            "Epoch 5: saving model to drive/My Drive/CS598DLHProject/data/preprocessed_3004/originalModels/CNNModelOriginal-05-0.05.h5\n",
            "7993/7993 [==============================] - 154s 19ms/step - loss: 0.0534 - precision_3: 0.7630 - recall_3: 0.2240 - val_loss: 0.0533 - val_precision_3: 0.7649 - val_recall_3: 0.2251\n",
            "Epoch 6/25\n",
            "7992/7993 [============================>.] - ETA: 0s - loss: 0.0528 - precision_3: 0.7660 - recall_3: 0.2320\n",
            "Epoch 6: saving model to drive/My Drive/CS598DLHProject/data/preprocessed_3004/originalModels/CNNModelOriginal-06-0.05.h5\n",
            "7993/7993 [==============================] - 154s 19ms/step - loss: 0.0528 - precision_3: 0.7660 - recall_3: 0.2320 - val_loss: 0.0531 - val_precision_3: 0.7521 - val_recall_3: 0.2408\n",
            "Epoch 7/25\n",
            "7990/7993 [============================>.] - ETA: 0s - loss: 0.0524 - precision_3: 0.7686 - recall_3: 0.2393\n",
            "Epoch 7: saving model to drive/My Drive/CS598DLHProject/data/preprocessed_3004/originalModels/CNNModelOriginal-07-0.05.h5\n",
            "7993/7993 [==============================] - 154s 19ms/step - loss: 0.0524 - precision_3: 0.7686 - recall_3: 0.2393 - val_loss: 0.0525 - val_precision_3: 0.7713 - val_recall_3: 0.2346\n",
            "Epoch 8/25\n",
            "7992/7993 [============================>.] - ETA: 0s - loss: 0.0520 - precision_3: 0.7707 - recall_3: 0.2456\n",
            "Epoch 8: saving model to drive/My Drive/CS598DLHProject/data/preprocessed_3004/originalModels/CNNModelOriginal-08-0.05.h5\n",
            "7993/7993 [==============================] - 153s 19ms/step - loss: 0.0520 - precision_3: 0.7707 - recall_3: 0.2456 - val_loss: 0.0521 - val_precision_3: 0.7674 - val_recall_3: 0.2449\n",
            "Epoch 9/25\n",
            "7992/7993 [============================>.] - ETA: 0s - loss: 0.0516 - precision_3: 0.7721 - recall_3: 0.2512\n",
            "Epoch 9: saving model to drive/My Drive/CS598DLHProject/data/preprocessed_3004/originalModels/CNNModelOriginal-09-0.05.h5\n",
            "7993/7993 [==============================] - 145s 18ms/step - loss: 0.0516 - precision_3: 0.7721 - recall_3: 0.2512 - val_loss: 0.0519 - val_precision_3: 0.7790 - val_recall_3: 0.2423\n",
            "Epoch 10/25\n",
            "7991/7993 [============================>.] - ETA: 0s - loss: 0.0513 - precision_3: 0.7743 - recall_3: 0.2564\n",
            "Epoch 10: saving model to drive/My Drive/CS598DLHProject/data/preprocessed_3004/originalModels/CNNModelOriginal-10-0.05.h5\n",
            "7993/7993 [==============================] - 144s 18ms/step - loss: 0.0513 - precision_3: 0.7743 - recall_3: 0.2564 - val_loss: 0.0518 - val_precision_3: 0.7688 - val_recall_3: 0.2516\n",
            "Epoch 11/25\n",
            "7990/7993 [============================>.] - ETA: 0s - loss: 0.0510 - precision_3: 0.7752 - recall_3: 0.2610\n",
            "Epoch 11: saving model to drive/My Drive/CS598DLHProject/data/preprocessed_3004/originalModels/CNNModelOriginal-11-0.05.h5\n",
            "7993/7993 [==============================] - 144s 18ms/step - loss: 0.0510 - precision_3: 0.7752 - recall_3: 0.2611 - val_loss: 0.0515 - val_precision_3: 0.7514 - val_recall_3: 0.2679\n",
            "Epoch 12/25\n",
            "7991/7993 [============================>.] - ETA: 0s - loss: 0.0507 - precision_3: 0.7764 - recall_3: 0.2653\n",
            "Epoch 12: saving model to drive/My Drive/CS598DLHProject/data/preprocessed_3004/originalModels/CNNModelOriginal-12-0.05.h5\n",
            "7993/7993 [==============================] - 143s 18ms/step - loss: 0.0507 - precision_3: 0.7764 - recall_3: 0.2653 - val_loss: 0.0513 - val_precision_3: 0.7695 - val_recall_3: 0.2606\n",
            "Epoch 13/25\n",
            "7993/7993 [==============================] - ETA: 0s - loss: 0.0505 - precision_3: 0.7777 - recall_3: 0.2692\n",
            "Epoch 13: saving model to drive/My Drive/CS598DLHProject/data/preprocessed_3004/originalModels/CNNModelOriginal-13-0.05.h5\n",
            "7993/7993 [==============================] - 143s 18ms/step - loss: 0.0505 - precision_3: 0.7777 - recall_3: 0.2692 - val_loss: 0.0510 - val_precision_3: 0.7619 - val_recall_3: 0.2721\n",
            "Epoch 14/25\n",
            "7991/7993 [============================>.] - ETA: 0s - loss: 0.0503 - precision_3: 0.7784 - recall_3: 0.2730\n",
            "Epoch 14: saving model to drive/My Drive/CS598DLHProject/data/preprocessed_3004/originalModels/CNNModelOriginal-14-0.05.h5\n",
            "7993/7993 [==============================] - 142s 18ms/step - loss: 0.0503 - precision_3: 0.7784 - recall_3: 0.2730 - val_loss: 0.0510 - val_precision_3: 0.7599 - val_recall_3: 0.2735\n",
            "Epoch 15/25\n",
            "7990/7993 [============================>.] - ETA: 0s - loss: 0.0501 - precision_3: 0.7790 - recall_3: 0.2764\n",
            "Epoch 15: saving model to drive/My Drive/CS598DLHProject/data/preprocessed_3004/originalModels/CNNModelOriginal-15-0.05.h5\n",
            "7993/7993 [==============================] - 143s 18ms/step - loss: 0.0501 - precision_3: 0.7790 - recall_3: 0.2764 - val_loss: 0.0509 - val_precision_3: 0.7633 - val_recall_3: 0.2720\n",
            "Epoch 16/25\n",
            "7993/7993 [==============================] - ETA: 0s - loss: 0.0499 - precision_3: 0.7803 - recall_3: 0.2795\n",
            "Epoch 16: saving model to drive/My Drive/CS598DLHProject/data/preprocessed_3004/originalModels/CNNModelOriginal-16-0.05.h5\n",
            "7993/7993 [==============================] - 142s 18ms/step - loss: 0.0499 - precision_3: 0.7803 - recall_3: 0.2795 - val_loss: 0.0507 - val_precision_3: 0.7577 - val_recall_3: 0.2846\n",
            "Epoch 17/25\n",
            "7991/7993 [============================>.] - ETA: 0s - loss: 0.0497 - precision_3: 0.7806 - recall_3: 0.2825\n",
            "Epoch 17: saving model to drive/My Drive/CS598DLHProject/data/preprocessed_3004/originalModels/CNNModelOriginal-17-0.05.h5\n",
            "7993/7993 [==============================] - 142s 18ms/step - loss: 0.0497 - precision_3: 0.7806 - recall_3: 0.2825 - val_loss: 0.0506 - val_precision_3: 0.7656 - val_recall_3: 0.2817\n",
            "Epoch 18/25\n",
            "7991/7993 [============================>.] - ETA: 0s - loss: 0.0496 - precision_3: 0.7815 - recall_3: 0.2854\n",
            "Epoch 18: saving model to drive/My Drive/CS598DLHProject/data/preprocessed_3004/originalModels/CNNModelOriginal-18-0.05.h5\n",
            "7993/7993 [==============================] - 142s 18ms/step - loss: 0.0496 - precision_3: 0.7815 - recall_3: 0.2854 - val_loss: 0.0506 - val_precision_3: 0.7523 - val_recall_3: 0.2893\n",
            "Epoch 19/25\n",
            "7992/7993 [============================>.] - ETA: 0s - loss: 0.0494 - precision_3: 0.7819 - recall_3: 0.2880\n",
            "Epoch 19: saving model to drive/My Drive/CS598DLHProject/data/preprocessed_3004/originalModels/CNNModelOriginal-19-0.05.h5\n",
            "7993/7993 [==============================] - 142s 18ms/step - loss: 0.0494 - precision_3: 0.7819 - recall_3: 0.2880 - val_loss: 0.0504 - val_precision_3: 0.7747 - val_recall_3: 0.2775\n",
            "Epoch 20/25\n",
            "7993/7993 [==============================] - ETA: 0s - loss: 0.0493 - precision_3: 0.7823 - recall_3: 0.2905\n",
            "Epoch 20: saving model to drive/My Drive/CS598DLHProject/data/preprocessed_3004/originalModels/CNNModelOriginal-20-0.05.h5\n",
            "7993/7993 [==============================] - 142s 18ms/step - loss: 0.0493 - precision_3: 0.7823 - recall_3: 0.2905 - val_loss: 0.0503 - val_precision_3: 0.7683 - val_recall_3: 0.2818\n",
            "Epoch 21/25\n",
            "7992/7993 [============================>.] - ETA: 0s - loss: 0.0491 - precision_3: 0.7827 - recall_3: 0.2928\n",
            "Epoch 21: saving model to drive/My Drive/CS598DLHProject/data/preprocessed_3004/originalModels/CNNModelOriginal-21-0.05.h5\n",
            "7993/7993 [==============================] - 142s 18ms/step - loss: 0.0491 - precision_3: 0.7827 - recall_3: 0.2928 - val_loss: 0.0501 - val_precision_3: 0.7739 - val_recall_3: 0.2828\n",
            "Epoch 22/25\n",
            "7992/7993 [============================>.] - ETA: 0s - loss: 0.0490 - precision_3: 0.7831 - recall_3: 0.2952\n",
            "Epoch 22: saving model to drive/My Drive/CS598DLHProject/data/preprocessed_3004/originalModels/CNNModelOriginal-22-0.05.h5\n",
            "7993/7993 [==============================] - 142s 18ms/step - loss: 0.0490 - precision_3: 0.7831 - recall_3: 0.2952 - val_loss: 0.0501 - val_precision_3: 0.7655 - val_recall_3: 0.2891\n",
            "Epoch 23/25\n",
            "7993/7993 [==============================] - ETA: 0s - loss: 0.0489 - precision_3: 0.7837 - recall_3: 0.2972\n",
            "Epoch 23: saving model to drive/My Drive/CS598DLHProject/data/preprocessed_3004/originalModels/CNNModelOriginal-23-0.05.h5\n",
            "7993/7993 [==============================] - 142s 18ms/step - loss: 0.0489 - precision_3: 0.7837 - recall_3: 0.2972 - val_loss: 0.0502 - val_precision_3: 0.7412 - val_recall_3: 0.3016\n",
            "Epoch 24/25\n",
            "7990/7993 [============================>.] - ETA: 0s - loss: 0.0488 - precision_3: 0.7838 - recall_3: 0.2989\n",
            "Epoch 24: saving model to drive/My Drive/CS598DLHProject/data/preprocessed_3004/originalModels/CNNModelOriginal-24-0.05.h5\n",
            "7993/7993 [==============================] - 143s 18ms/step - loss: 0.0488 - precision_3: 0.7837 - recall_3: 0.2989 - val_loss: 0.0501 - val_precision_3: 0.7585 - val_recall_3: 0.2950\n",
            "Epoch 25/25\n",
            "7992/7993 [============================>.] - ETA: 0s - loss: 0.0487 - precision_3: 0.7839 - recall_3: 0.3009\n",
            "Epoch 25: saving model to drive/My Drive/CS598DLHProject/data/preprocessed_3004/originalModels/CNNModelOriginal-25-0.05.h5\n",
            "7993/7993 [==============================] - 143s 18ms/step - loss: 0.0487 - precision_3: 0.7839 - recall_3: 0.3009 - val_loss: 0.0499 - val_precision_3: 0.7735 - val_recall_3: 0.2874\n"
          ]
        },
        {
          "output_type": "execute_result",
          "data": {
            "text/plain": [
              "<keras.callbacks.History at 0x7f38057db9d0>"
            ]
          },
          "metadata": {},
          "execution_count": 10
        }
      ]
    },
    {
      "cell_type": "code",
      "source": [
        "# model.save(ORIGINAL_MODELS + 'CNNBaselineOriginal.h5')"
      ],
      "metadata": {
        "id": "WEdhC-TMKXQT"
      },
      "execution_count": 11,
      "outputs": []
    },
    {
      "cell_type": "code",
      "source": [
        "import keras\n",
        "from tensorflow.keras.callbacks import EarlyStopping\n",
        "from tensorflow.keras.models import Model\n",
        "from tensorflow.keras.layers import Input, Embedding, Dense, Conv1D, GlobalMaxPooling1D, concatenate\n",
        "from keras.callbacks import ModelCheckpoint\n",
        "\n",
        "\n",
        "embedding_input = Input(shape=(x_train.shape[1],), dtype=np.int32)\n",
        "embedding_layer = Embedding(len(word_index), embedding_matrix.shape[1],\n",
        "                                weights=[embedding_matrix], input_length=x_train.shape[1],\n",
        "                                trainable=False)(embedding_input)\n",
        "x1 = Conv1D(250, 2, activation='relu')(embedding_layer)\n",
        "x1 = GlobalMaxPooling1D()(x1)\n",
        "x2 = Conv1D(250, 3, activation='relu')(embedding_layer)\n",
        "x2 = GlobalMaxPooling1D()(x2)\n",
        "x3 = Conv1D(250, 4, activation='relu')(embedding_layer)\n",
        "x3 = GlobalMaxPooling1D()(x3)\n",
        "x = concatenate([x1, x2, x3])\n",
        "output = Dense(y_train.shape[1], activation='sigmoid')(x)\n",
        "\n",
        "model = Model(inputs=[embedding_input], outputs=[output])\n",
        "\n",
        "model.compile(loss='binary_crossentropy', optimizer='adam', metrics=[keras.metrics.Precision(), keras.metrics.Recall()])\n",
        "\n",
        "filepath= ORIGINAL_MODELS + \"CNN3LayerModelOriginal-{epoch:02d}-{loss:.2f}.h5\"\n",
        "checkpoint = ModelCheckpoint(filepath, monitor='loss', verbose=1, save_best_only=False, save_weights_only=False, mode='auto', save_freq='epoch')\n",
        "\n",
        "early_stopping = EarlyStopping(min_delta=.0001, patience=2)\n",
        "model.fit(x_train, y_train,\n",
        "          batch_size=32, epochs=25,\n",
        "          validation_data=[x_val, y_val],\n",
        "          callbacks=[early_stopping, checkpoint])"
      ],
      "metadata": {
        "colab": {
          "base_uri": "https://localhost:8080/"
        },
        "id": "JNWub6feRXeI",
        "outputId": "39eaecc4-f4e6-4c22-af82-3b8dac81cae6"
      },
      "execution_count": 12,
      "outputs": [
        {
          "output_type": "stream",
          "name": "stdout",
          "text": [
            "Epoch 1/25\n",
            "7993/7993 [==============================] - ETA: 0s - loss: 0.0605 - precision_4: 0.6375 - recall_4: 0.2695\n",
            "Epoch 1: saving model to drive/My Drive/CS598DLHProject/data/preprocessed_3004/originalModels/CNN3LayerModelOriginal-01-0.06.h5\n",
            "7993/7993 [==============================] - 452s 56ms/step - loss: 0.0605 - precision_4: 0.6375 - recall_4: 0.2695 - val_loss: 0.0546 - val_precision_4: 0.7163 - val_recall_4: 0.2766\n",
            "Epoch 2/25\n",
            "7992/7993 [============================>.] - ETA: 0s - loss: 0.0524 - precision_4: 0.7063 - recall_4: 0.3123\n",
            "Epoch 2: saving model to drive/My Drive/CS598DLHProject/data/preprocessed_3004/originalModels/CNN3LayerModelOriginal-02-0.05.h5\n",
            "7993/7993 [==============================] - 449s 56ms/step - loss: 0.0524 - precision_4: 0.7063 - recall_4: 0.3123 - val_loss: 0.0508 - val_precision_4: 0.7284 - val_recall_4: 0.3159\n",
            "Epoch 3/25\n",
            "7992/7993 [============================>.] - ETA: 0s - loss: 0.0493 - precision_4: 0.7333 - recall_4: 0.3322\n",
            "Epoch 3: saving model to drive/My Drive/CS598DLHProject/data/preprocessed_3004/originalModels/CNN3LayerModelOriginal-03-0.05.h5\n",
            "7993/7993 [==============================] - 449s 56ms/step - loss: 0.0493 - precision_4: 0.7333 - recall_4: 0.3322 - val_loss: 0.0484 - val_precision_4: 0.7425 - val_recall_4: 0.3414\n",
            "Epoch 4/25\n",
            "7992/7993 [============================>.] - ETA: 0s - loss: 0.0473 - precision_4: 0.7551 - recall_4: 0.3491\n",
            "Epoch 4: saving model to drive/My Drive/CS598DLHProject/data/preprocessed_3004/originalModels/CNN3LayerModelOriginal-04-0.05.h5\n",
            "7993/7993 [==============================] - 449s 56ms/step - loss: 0.0473 - precision_4: 0.7551 - recall_4: 0.3491 - val_loss: 0.0470 - val_precision_4: 0.7594 - val_recall_4: 0.3543\n",
            "Epoch 5/25\n",
            "7992/7993 [============================>.] - ETA: 0s - loss: 0.0460 - precision_4: 0.7689 - recall_4: 0.3618\n",
            "Epoch 5: saving model to drive/My Drive/CS598DLHProject/data/preprocessed_3004/originalModels/CNN3LayerModelOriginal-05-0.05.h5\n",
            "7993/7993 [==============================] - 449s 56ms/step - loss: 0.0460 - precision_4: 0.7688 - recall_4: 0.3618 - val_loss: 0.0461 - val_precision_4: 0.7672 - val_recall_4: 0.3632\n",
            "Epoch 6/25\n",
            "7992/7993 [============================>.] - ETA: 0s - loss: 0.0452 - precision_4: 0.7777 - recall_4: 0.3718\n",
            "Epoch 6: saving model to drive/My Drive/CS598DLHProject/data/preprocessed_3004/originalModels/CNN3LayerModelOriginal-06-0.05.h5\n",
            "7993/7993 [==============================] - 449s 56ms/step - loss: 0.0452 - precision_4: 0.7777 - recall_4: 0.3718 - val_loss: 0.0458 - val_precision_4: 0.7755 - val_recall_4: 0.3652\n",
            "Epoch 7/25\n",
            "7992/7993 [============================>.] - ETA: 0s - loss: 0.0446 - precision_4: 0.7837 - recall_4: 0.3788\n",
            "Epoch 7: saving model to drive/My Drive/CS598DLHProject/data/preprocessed_3004/originalModels/CNN3LayerModelOriginal-07-0.04.h5\n",
            "7993/7993 [==============================] - 449s 56ms/step - loss: 0.0446 - precision_4: 0.7837 - recall_4: 0.3788 - val_loss: 0.0451 - val_precision_4: 0.7870 - val_recall_4: 0.3718\n",
            "Epoch 8/25\n",
            "7992/7993 [============================>.] - ETA: 0s - loss: 0.0442 - precision_4: 0.7882 - recall_4: 0.3833\n",
            "Epoch 8: saving model to drive/My Drive/CS598DLHProject/data/preprocessed_3004/originalModels/CNN3LayerModelOriginal-08-0.04.h5\n",
            "7993/7993 [==============================] - 449s 56ms/step - loss: 0.0442 - precision_4: 0.7882 - recall_4: 0.3833 - val_loss: 0.0449 - val_precision_4: 0.7846 - val_recall_4: 0.3773\n",
            "Epoch 9/25\n",
            "7992/7993 [============================>.] - ETA: 0s - loss: 0.0439 - precision_4: 0.7924 - recall_4: 0.3870\n",
            "Epoch 9: saving model to drive/My Drive/CS598DLHProject/data/preprocessed_3004/originalModels/CNN3LayerModelOriginal-09-0.04.h5\n",
            "7993/7993 [==============================] - 448s 56ms/step - loss: 0.0439 - precision_4: 0.7924 - recall_4: 0.3870 - val_loss: 0.0447 - val_precision_4: 0.7810 - val_recall_4: 0.3870\n",
            "Epoch 10/25\n",
            "7992/7993 [============================>.] - ETA: 0s - loss: 0.0436 - precision_4: 0.7951 - recall_4: 0.3898\n",
            "Epoch 10: saving model to drive/My Drive/CS598DLHProject/data/preprocessed_3004/originalModels/CNN3LayerModelOriginal-10-0.04.h5\n",
            "7993/7993 [==============================] - 449s 56ms/step - loss: 0.0436 - precision_4: 0.7951 - recall_4: 0.3898 - val_loss: 0.0446 - val_precision_4: 0.7783 - val_recall_4: 0.3911\n",
            "Epoch 11/25\n",
            "7992/7993 [============================>.] - ETA: 0s - loss: 0.0434 - precision_4: 0.7973 - recall_4: 0.3914\n",
            "Epoch 11: saving model to drive/My Drive/CS598DLHProject/data/preprocessed_3004/originalModels/CNN3LayerModelOriginal-11-0.04.h5\n",
            "7993/7993 [==============================] - 454s 57ms/step - loss: 0.0434 - precision_4: 0.7973 - recall_4: 0.3914 - val_loss: 0.0447 - val_precision_4: 0.7925 - val_recall_4: 0.3815\n",
            "Epoch 12/25\n",
            "7992/7993 [============================>.] - ETA: 0s - loss: 0.0433 - precision_4: 0.7992 - recall_4: 0.3929\n",
            "Epoch 12: saving model to drive/My Drive/CS598DLHProject/data/preprocessed_3004/originalModels/CNN3LayerModelOriginal-12-0.04.h5\n",
            "7993/7993 [==============================] - 463s 58ms/step - loss: 0.0433 - precision_4: 0.7991 - recall_4: 0.3929 - val_loss: 0.0445 - val_precision_4: 0.8000 - val_recall_4: 0.3800\n",
            "Epoch 13/25\n",
            "7992/7993 [============================>.] - ETA: 0s - loss: 0.0432 - precision_4: 0.8003 - recall_4: 0.3942\n",
            "Epoch 13: saving model to drive/My Drive/CS598DLHProject/data/preprocessed_3004/originalModels/CNN3LayerModelOriginal-13-0.04.h5\n",
            "7993/7993 [==============================] - 459s 57ms/step - loss: 0.0432 - precision_4: 0.8003 - recall_4: 0.3942 - val_loss: 0.0447 - val_precision_4: 0.7968 - val_recall_4: 0.3789\n",
            "Epoch 14/25\n",
            "7992/7993 [============================>.] - ETA: 0s - loss: 0.0432 - precision_4: 0.8012 - recall_4: 0.3944\n",
            "Epoch 14: saving model to drive/My Drive/CS598DLHProject/data/preprocessed_3004/originalModels/CNN3LayerModelOriginal-14-0.04.h5\n",
            "7993/7993 [==============================] - 461s 58ms/step - loss: 0.0432 - precision_4: 0.8012 - recall_4: 0.3944 - val_loss: 0.0447 - val_precision_4: 0.7977 - val_recall_4: 0.3799\n",
            "Epoch 15/25\n",
            "7992/7993 [============================>.] - ETA: 0s - loss: 0.0431 - precision_4: 0.8029 - recall_4: 0.3945\n",
            "Epoch 15: saving model to drive/My Drive/CS598DLHProject/data/preprocessed_3004/originalModels/CNN3LayerModelOriginal-15-0.04.h5\n",
            "7993/7993 [==============================] - 462s 58ms/step - loss: 0.0431 - precision_4: 0.8029 - recall_4: 0.3945 - val_loss: 0.0446 - val_precision_4: 0.7893 - val_recall_4: 0.3872\n",
            "Epoch 16/25\n",
            "7992/7993 [============================>.] - ETA: 0s - loss: 0.0431 - precision_4: 0.8034 - recall_4: 0.3952\n",
            "Epoch 16: saving model to drive/My Drive/CS598DLHProject/data/preprocessed_3004/originalModels/CNN3LayerModelOriginal-16-0.04.h5\n",
            "7993/7993 [==============================] - 452s 57ms/step - loss: 0.0431 - precision_4: 0.8034 - recall_4: 0.3952 - val_loss: 0.0445 - val_precision_4: 0.7926 - val_recall_4: 0.3881\n",
            "Epoch 17/25\n",
            "7992/7993 [============================>.] - ETA: 0s - loss: 0.0430 - precision_4: 0.8047 - recall_4: 0.3956\n",
            "Epoch 17: saving model to drive/My Drive/CS598DLHProject/data/preprocessed_3004/originalModels/CNN3LayerModelOriginal-17-0.04.h5\n",
            "7993/7993 [==============================] - 449s 56ms/step - loss: 0.0430 - precision_4: 0.8047 - recall_4: 0.3956 - val_loss: 0.0445 - val_precision_4: 0.8121 - val_recall_4: 0.3743\n",
            "Epoch 18/25\n",
            "7992/7993 [============================>.] - ETA: 0s - loss: 0.0430 - precision_4: 0.8056 - recall_4: 0.3958\n",
            "Epoch 18: saving model to drive/My Drive/CS598DLHProject/data/preprocessed_3004/originalModels/CNN3LayerModelOriginal-18-0.04.h5\n",
            "7993/7993 [==============================] - 448s 56ms/step - loss: 0.0430 - precision_4: 0.8056 - recall_4: 0.3958 - val_loss: 0.0447 - val_precision_4: 0.7923 - val_recall_4: 0.3868\n",
            "Epoch 19/25\n",
            "7992/7993 [============================>.] - ETA: 0s - loss: 0.0430 - precision_4: 0.8057 - recall_4: 0.3956\n",
            "Epoch 19: saving model to drive/My Drive/CS598DLHProject/data/preprocessed_3004/originalModels/CNN3LayerModelOriginal-19-0.04.h5\n",
            "7993/7993 [==============================] - 449s 56ms/step - loss: 0.0430 - precision_4: 0.8057 - recall_4: 0.3956 - val_loss: 0.0447 - val_precision_4: 0.7831 - val_recall_4: 0.3917\n",
            "Epoch 20/25\n",
            "7992/7993 [============================>.] - ETA: 0s - loss: 0.0430 - precision_4: 0.8060 - recall_4: 0.3961\n",
            "Epoch 20: saving model to drive/My Drive/CS598DLHProject/data/preprocessed_3004/originalModels/CNN3LayerModelOriginal-20-0.04.h5\n",
            "7993/7993 [==============================] - 449s 56ms/step - loss: 0.0430 - precision_4: 0.8060 - recall_4: 0.3961 - val_loss: 0.0448 - val_precision_4: 0.7870 - val_recall_4: 0.3893\n",
            "Epoch 21/25\n",
            "7992/7993 [============================>.] - ETA: 0s - loss: 0.0430 - precision_4: 0.8057 - recall_4: 0.3956\n",
            "Epoch 21: saving model to drive/My Drive/CS598DLHProject/data/preprocessed_3004/originalModels/CNN3LayerModelOriginal-21-0.04.h5\n",
            "7993/7993 [==============================] - 449s 56ms/step - loss: 0.0430 - precision_4: 0.8057 - recall_4: 0.3956 - val_loss: 0.0448 - val_precision_4: 0.8017 - val_recall_4: 0.3821\n",
            "Epoch 22/25\n",
            "7992/7993 [============================>.] - ETA: 0s - loss: 0.0430 - precision_4: 0.8066 - recall_4: 0.3959\n",
            "Epoch 22: saving model to drive/My Drive/CS598DLHProject/data/preprocessed_3004/originalModels/CNN3LayerModelOriginal-22-0.04.h5\n",
            "7993/7993 [==============================] - 449s 56ms/step - loss: 0.0430 - precision_4: 0.8066 - recall_4: 0.3959 - val_loss: 0.0448 - val_precision_4: 0.7962 - val_recall_4: 0.3847\n"
          ]
        },
        {
          "output_type": "execute_result",
          "data": {
            "text/plain": [
              "<keras.callbacks.History at 0x7f380444dfd0>"
            ]
          },
          "metadata": {},
          "execution_count": 12
        }
      ]
    },
    {
      "cell_type": "code",
      "source": [
        "# model.save(ORIGINAL_MODELS + 'CNN3LayerOriginal.h5')"
      ],
      "metadata": {
        "id": "utdbJiXhMEyk"
      },
      "execution_count": 13,
      "outputs": []
    }
  ]
}