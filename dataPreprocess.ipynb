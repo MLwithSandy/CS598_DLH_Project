{
 "cells": [
  {
   "cell_type": "code",
   "execution_count": 7,
   "metadata": {},
   "outputs": [],
   "source": [
    "import pandas as pd\n"
   ]
  },
  {
   "cell_type": "code",
   "execution_count": 8,
   "metadata": {},
   "outputs": [
    {
     "name": "stdout",
     "output_type": "stream",
     "text": [
      "   ROW_ID  SUBJECT_ID  HADM_ID  SEQ_NUM ICD9_CODE\n",
      "0    1297         109   172335      1.0     40301\n",
      "1    1298         109   172335      2.0       486\n",
      "2    1299         109   172335      3.0     58281\n",
      "3    1300         109   172335      4.0      5855\n",
      "4    1301         109   172335      5.0      4254\n"
     ]
    }
   ],
   "source": [
    "df_diag = pd.DataFrame()\n",
    "temp = pd.read_csv('../data/DIAGNOSES_ICD.csv', iterator=True, chunksize=1000)\n",
    "df_diag = pd.concat(temp, ignore_index=True)\n",
    "print(df_diag.head(5))\n"
   ]
  },
  {
   "cell_type": "code",
   "execution_count": 10,
   "metadata": {},
   "outputs": [
    {
     "name": "stdout",
     "output_type": "stream",
     "text": [
      "   ROW_ID  SUBJECT_ID   HADM_ID   CHARTDATE CHARTTIME STORETIME  \\\n",
      "0     174       22532  167853.0  2151-08-04       NaN       NaN   \n",
      "1     175       13702  107527.0  2118-06-14       NaN       NaN   \n",
      "2     176       13702  167118.0  2119-05-25       NaN       NaN   \n",
      "3     177       13702  196489.0  2124-08-18       NaN       NaN   \n",
      "4     178       26880  135453.0  2162-03-25       NaN       NaN   \n",
      "\n",
      "            CATEGORY DESCRIPTION  CGID  ISERROR  \\\n",
      "0  Discharge summary      Report   NaN      NaN   \n",
      "1  Discharge summary      Report   NaN      NaN   \n",
      "2  Discharge summary      Report   NaN      NaN   \n",
      "3  Discharge summary      Report   NaN      NaN   \n",
      "4  Discharge summary      Report   NaN      NaN   \n",
      "\n",
      "                                                TEXT  \n",
      "0  Admission Date:  [**2151-7-16**]       Dischar...  \n",
      "1  Admission Date:  [**2118-6-2**]       Discharg...  \n",
      "2  Admission Date:  [**2119-5-4**]              D...  \n",
      "3  Admission Date:  [**2124-7-21**]              ...  \n",
      "4  Admission Date:  [**2162-3-3**]              D...  \n"
     ]
    }
   ],
   "source": [
    "df_notes = pd.DataFrame()\n",
    "temp = pd.read_csv('../data/NOTEEVENTS.csv', iterator=True, chunksize=1000)\n",
    "df_notes = pd.concat(temp, ignore_index=True)\n",
    "print(df_notes.head(5))"
   ]
  },
  {
   "cell_type": "code",
   "execution_count": 11,
   "metadata": {},
   "outputs": [
    {
     "name": "stdout",
     "output_type": "stream",
     "text": [
      "(2083180, 11)\n",
      "(651047, 5)\n"
     ]
    }
   ],
   "source": [
    "print(df_notes.shape)\n",
    "print(df_diag.shape)"
   ]
  },
  {
   "cell_type": "code",
   "execution_count": 12,
   "metadata": {},
   "outputs": [
    {
     "name": "stdout",
     "output_type": "stream",
     "text": [
      "(10318, 1)\n",
      "   SUBJECT_ID\n",
      "0         117\n",
      "2         123\n",
      "3         130\n",
      "5         135\n",
      "6         137\n"
     ]
    }
   ],
   "source": [
    "\n",
    "# Unique subject IDs with Diabetes\n",
    "df_sub_id_diabetes = df_diag[df_diag['ICD9_CODE'].str.startswith(\"250\", na = False)]['SUBJECT_ID'].to_frame()\n",
    "\n",
    "df_sub_id_diabetes = df_sub_id_diabetes.reset_index(drop=True)\n",
    "df_sub_id_diabetes = df_sub_id_diabetes.drop_duplicates()\n",
    "print(df_sub_id_diabetes.shape)\n",
    "print(df_sub_id_diabetes.head())"
   ]
  },
  {
   "cell_type": "code",
   "execution_count": 13,
   "metadata": {},
   "outputs": [
    {
     "name": "stdout",
     "output_type": "stream",
     "text": [
      "(215909, 5)\n",
      "   ROW_ID  SUBJECT_ID  HADM_ID  SEQ_NUM ICD9_CODE\n",
      "0    1523         117   140784      1.0      5715\n",
      "1    1524         117   140784      2.0      7895\n"
     ]
    }
   ],
   "source": [
    "df_diag_diabetes = pd.merge(df_diag, df_sub_id_diabetes, on=['SUBJECT_ID'], how='inner')\n",
    "print(df_diag_diabetes.shape)\n",
    "print(df_diag_diabetes.head(2))\n",
    "\n"
   ]
  },
  {
   "cell_type": "code",
   "execution_count": 14,
   "metadata": {},
   "outputs": [
    {
     "name": "stdout",
     "output_type": "stream",
     "text": [
      "(540427, 11)\n",
      "   ROW_ID  SUBJECT_ID   HADM_ID   CHARTDATE CHARTTIME STORETIME  \\\n",
      "0     184       28063  121936.0  2125-02-16       NaN       NaN   \n",
      "1   59801       28063  121936.0  2125-02-12       NaN       NaN   \n",
      "\n",
      "            CATEGORY DESCRIPTION  CGID  ISERROR  \\\n",
      "0  Discharge summary      Report   NaN      NaN   \n",
      "1               Echo      Report   NaN      NaN   \n",
      "\n",
      "                                                TEXT  \n",
      "0  Admission Date:  [**2125-2-9**]              D...  \n",
      "1  PATIENT/TEST INFORMATION:\\nIndication: Aortic ...  \n"
     ]
    }
   ],
   "source": [
    "df_notes_diabetes = pd.merge(df_notes, df_sub_id_diabetes, on=['SUBJECT_ID'], how='inner')\n",
    "print(df_notes_diabetes.shape)\n",
    "print(df_notes_diabetes.head(2))"
   ]
  },
  {
   "cell_type": "code",
   "execution_count": 16,
   "metadata": {},
   "outputs": [],
   "source": [
    "from string import punctuation\n",
    "my_punctuation = punctuation.replace(\"'\", \"\")\n",
    "df_notes_diabetes['TEXT'] = df_notes_diabetes['TEXT'].str.translate(str.maketrans(\"\", \"\", my_punctuation))"
   ]
  },
  {
   "cell_type": "code",
   "execution_count": 17,
   "metadata": {},
   "outputs": [
    {
     "data": {
      "text/plain": [
       "0    Admission Date  212529              Discharge ...\n",
       "1    PATIENTTEST INFORMATION\\nIndication Aortic val...\n",
       "2    PATIENTTEST INFORMATION\\nIndication  Aortic va...\n",
       "3    Sinus rhythm  Frequent atrial premature beats ...\n",
       "4    Rhythm is most likely sinus rhythm with freque...\n",
       "Name: TEXT, dtype: object"
      ]
     },
     "execution_count": 17,
     "metadata": {},
     "output_type": "execute_result"
    }
   ],
   "source": [
    "df_notes_diabetes['TEXT'].head(5)"
   ]
  },
  {
   "cell_type": "code",
   "execution_count": 18,
   "metadata": {},
   "outputs": [
    {
     "data": {
      "text/plain": [
       "0    Admission Date  dddddd              Discharge ...\n",
       "1    PATIENTTEST INFORMATION\\nIndication Aortic val...\n",
       "2    PATIENTTEST INFORMATION\\nIndication  Aortic va...\n",
       "3    Sinus rhythm  Frequent atrial premature beats ...\n",
       "4    Rhythm is most likely sinus rhythm with freque...\n",
       "Name: TEXT, dtype: object"
      ]
     },
     "execution_count": 18,
     "metadata": {},
     "output_type": "execute_result"
    }
   ],
   "source": [
    "import re\n",
    "\n",
    "df_notes_diabetes['TEXT'] = df_notes_diabetes['TEXT'].replace('[\\d]', 'd',regex=True)\n",
    "df_notes_diabetes['TEXT'].head(5)"
   ]
  },
  {
   "cell_type": "code",
   "execution_count": 19,
   "metadata": {},
   "outputs": [
    {
     "data": {
      "text/html": [
       "<div>\n",
       "<style scoped>\n",
       "    .dataframe tbody tr th:only-of-type {\n",
       "        vertical-align: middle;\n",
       "    }\n",
       "\n",
       "    .dataframe tbody tr th {\n",
       "        vertical-align: top;\n",
       "    }\n",
       "\n",
       "    .dataframe thead th {\n",
       "        text-align: right;\n",
       "    }\n",
       "</style>\n",
       "<table border=\"1\" class=\"dataframe\">\n",
       "  <thead>\n",
       "    <tr style=\"text-align: right;\">\n",
       "      <th></th>\n",
       "      <th>ROW_ID</th>\n",
       "      <th>SUBJECT_ID</th>\n",
       "      <th>HADM_ID</th>\n",
       "      <th>CHARTDATE</th>\n",
       "      <th>CHARTTIME</th>\n",
       "      <th>STORETIME</th>\n",
       "      <th>CATEGORY</th>\n",
       "      <th>DESCRIPTION</th>\n",
       "      <th>CGID</th>\n",
       "      <th>ISERROR</th>\n",
       "      <th>TEXT</th>\n",
       "    </tr>\n",
       "  </thead>\n",
       "  <tbody>\n",
       "    <tr>\n",
       "      <th>0</th>\n",
       "      <td>184</td>\n",
       "      <td>28063</td>\n",
       "      <td>121936.0</td>\n",
       "      <td>2125-02-16</td>\n",
       "      <td>NaN</td>\n",
       "      <td>NaN</td>\n",
       "      <td>Discharge summary</td>\n",
       "      <td>Report</td>\n",
       "      <td>NaN</td>\n",
       "      <td>NaN</td>\n",
       "      <td>admission date  dddddd              discharge ...</td>\n",
       "    </tr>\n",
       "    <tr>\n",
       "      <th>1</th>\n",
       "      <td>59801</td>\n",
       "      <td>28063</td>\n",
       "      <td>121936.0</td>\n",
       "      <td>2125-02-12</td>\n",
       "      <td>NaN</td>\n",
       "      <td>NaN</td>\n",
       "      <td>Echo</td>\n",
       "      <td>Report</td>\n",
       "      <td>NaN</td>\n",
       "      <td>NaN</td>\n",
       "      <td>patienttest information\\nindication aortic val...</td>\n",
       "    </tr>\n",
       "    <tr>\n",
       "      <th>2</th>\n",
       "      <td>59802</td>\n",
       "      <td>28063</td>\n",
       "      <td>121936.0</td>\n",
       "      <td>2125-02-11</td>\n",
       "      <td>NaN</td>\n",
       "      <td>NaN</td>\n",
       "      <td>Echo</td>\n",
       "      <td>Report</td>\n",
       "      <td>NaN</td>\n",
       "      <td>NaN</td>\n",
       "      <td>patienttest information\\nindication  aortic va...</td>\n",
       "    </tr>\n",
       "    <tr>\n",
       "      <th>3</th>\n",
       "      <td>105548</td>\n",
       "      <td>28063</td>\n",
       "      <td>121936.0</td>\n",
       "      <td>2125-02-10</td>\n",
       "      <td>NaN</td>\n",
       "      <td>NaN</td>\n",
       "      <td>ECG</td>\n",
       "      <td>Report</td>\n",
       "      <td>NaN</td>\n",
       "      <td>NaN</td>\n",
       "      <td>sinus rhythm  frequent atrial premature beats ...</td>\n",
       "    </tr>\n",
       "    <tr>\n",
       "      <th>4</th>\n",
       "      <td>105549</td>\n",
       "      <td>28063</td>\n",
       "      <td>121936.0</td>\n",
       "      <td>2125-02-09</td>\n",
       "      <td>NaN</td>\n",
       "      <td>NaN</td>\n",
       "      <td>ECG</td>\n",
       "      <td>Report</td>\n",
       "      <td>NaN</td>\n",
       "      <td>NaN</td>\n",
       "      <td>rhythm is most likely sinus rhythm with freque...</td>\n",
       "    </tr>\n",
       "  </tbody>\n",
       "</table>\n",
       "</div>"
      ],
      "text/plain": [
       "   ROW_ID  SUBJECT_ID   HADM_ID   CHARTDATE CHARTTIME STORETIME  \\\n",
       "0     184       28063  121936.0  2125-02-16       NaN       NaN   \n",
       "1   59801       28063  121936.0  2125-02-12       NaN       NaN   \n",
       "2   59802       28063  121936.0  2125-02-11       NaN       NaN   \n",
       "3  105548       28063  121936.0  2125-02-10       NaN       NaN   \n",
       "4  105549       28063  121936.0  2125-02-09       NaN       NaN   \n",
       "\n",
       "            CATEGORY DESCRIPTION  CGID  ISERROR  \\\n",
       "0  Discharge summary      Report   NaN      NaN   \n",
       "1               Echo      Report   NaN      NaN   \n",
       "2               Echo      Report   NaN      NaN   \n",
       "3                ECG      Report   NaN      NaN   \n",
       "4                ECG      Report   NaN      NaN   \n",
       "\n",
       "                                                TEXT  \n",
       "0  admission date  dddddd              discharge ...  \n",
       "1  patienttest information\\nindication aortic val...  \n",
       "2  patienttest information\\nindication  aortic va...  \n",
       "3  sinus rhythm  frequent atrial premature beats ...  \n",
       "4  rhythm is most likely sinus rhythm with freque...  "
      ]
     },
     "execution_count": 19,
     "metadata": {},
     "output_type": "execute_result"
    }
   ],
   "source": [
    "df_notes_diabetes['TEXT'] = df_notes_diabetes['TEXT'].str.lower()\n",
    "\n",
    "df_notes_diabetes.head(5)"
   ]
  },
  {
   "cell_type": "code",
   "execution_count": 22,
   "metadata": {},
   "outputs": [
    {
     "name": "stdout",
     "output_type": "stream",
     "text": [
      "   ROW_ID  SUBJECT_ID   HADM_ID   CHARTDATE CHARTTIME STORETIME  \\\n",
      "0     184       28063  121936.0  2125-02-16       NaN       NaN   \n",
      "1   59801       28063  121936.0  2125-02-12       NaN       NaN   \n",
      "2   59802       28063  121936.0  2125-02-11       NaN       NaN   \n",
      "3  105548       28063  121936.0  2125-02-10       NaN       NaN   \n",
      "4  105549       28063  121936.0  2125-02-09       NaN       NaN   \n",
      "\n",
      "            CATEGORY DESCRIPTION  CGID  ISERROR  \\\n",
      "0  Discharge summary      Report   NaN      NaN   \n",
      "1               Echo      Report   NaN      NaN   \n",
      "2               Echo      Report   NaN      NaN   \n",
      "3                ECG      Report   NaN      NaN   \n",
      "4                ECG      Report   NaN      NaN   \n",
      "\n",
      "                                                TEXT  \\\n",
      "0  admission date  dddddd              discharge ...   \n",
      "1  patienttest information\\nindication aortic val...   \n",
      "2  patienttest information\\nindication  aortic va...   \n",
      "3  sinus rhythm  frequent atrial premature beats ...   \n",
      "4  rhythm is most likely sinus rhythm with freque...   \n",
      "\n",
      "                                              TOKENS  \n",
      "0  [admission, date, dddddd, discharge, date, ddd...  \n",
      "1  [patienttest, information, indication, aortic,...  \n",
      "2  [patienttest, information, indication, aortic,...  \n",
      "3  [sinus, rhythm, frequent, atrial, premature, b...  \n",
      "4  [rhythm, is, most, likely, sinus, rhythm, with...  \n"
     ]
    }
   ],
   "source": [
    "df_notes_diabetes['TOKENS'] = df_notes_diabetes['TEXT'].str.split()\n",
    "print(df_notes_diabetes.head(5))"
   ]
  },
  {
   "cell_type": "code",
   "execution_count": 29,
   "metadata": {},
   "outputs": [],
   "source": [
    "from collections import Counter\n",
    "\n",
    "def wordListToFreqDict(wordFreqDict, wordlist):\n",
    "    wordfreq = [wordlist.count(p) for p in wordlist]\n",
    "    tempDict = dict(list(zip(wordlist,wordfreq)))\n",
    "    z = dict(Counter(wordFreqDict)+Counter(tempDict))\n",
    "    return z"
   ]
  },
  {
   "cell_type": "code",
   "execution_count": 30,
   "metadata": {},
   "outputs": [
    {
     "name": "stdout",
     "output_type": "stream",
     "text": [
      "{'admission': 4, 'date': 2, 'dddddd': 8, 'discharge': 6, 'ddddddd': 17, 'service': 1, 'medicine': 1, 'allergies': 1, 'zocor': 1, 'lescol': 1, 'attendingdoctor': 1, 'last': 3, 'name': 2, 'dddd': 17, 'chief': 1, 'complaint': 1, 'chest': 17, 'pain': 15, 'major': 1, 'surgical': 1, 'or': 10, 'invasive': 1, 'procedure': 1, 'central': 1, 'venous': 2, 'line': 1, 'insertion': 1, 'right': 7, 'internal': 2, 'jugular': 2, 'vein': 1, 'history': 8, 'of': 40, 'present': 2, 'illness': 1, 'mr': 3, 'known': 3, 'lastname': 3, 'is': 24, 'an': 5, 'dd': 42, 'yo': 2, 'man': 2, 'with': 49, 'moderate': 8, 'aortic': 13, 'stenosis': 7, 'outside': 3, 'hospital': 5, 'echo': 2, 'in': 25, 'location': 1, 'un': 1, 'ddd': 17, 'd': 26, 'cmd': 2, 'gradient': 1, 'mmhg': 1, 'mitral': 4, 'regurgitation': 4, 'mild': 4, 'insufficiency': 2, 'chronic': 4, 'left': 14, 'ventricular': 15, 'systolic': 8, 'heart': 12, 'failure': 11, 'ef': 1, 'hypertension': 4, 'hyperlipidemia': 3, 'diabetes': 5, 'mellitus': 3, 'cad': 4, 'sp': 5, 'cabg': 7, 'svgladdiagonal': 2, 'svgom': 4, 'and': 47, 'svgrpdarpl': 2, 'a': 26, 'redo': 2, 'ddddd': 5, 'limalad': 2, 'svgdiagonal': 2, 'svgrca': 2, 'he': 43, 'also': 6, 'has': 4, 'severe': 7, 'peripheral': 4, 'arterial': 3, 'disease': 6, 'bypass': 2, 'surgery': 3, 'presented': 1, 'to': 46, 'er': 1, 'this': 4, 'morning': 1, 'shortness': 2, 'breath': 3, 'was': 36, 'found': 1, 'be': 8, 'states': 1, 'his': 15, 'usual': 1, 'state': 1, 'health': 1, 'until': 2, 'evening': 2, 'when': 2, 'woke': 1, 'up': 5, 'feeling': 1, 'cold': 1, 'hour': 1, 'later': 1, 'developed': 4, 'sharp': 1, 'radiating': 1, 'across': 1, 'associated': 2, 'nausea': 1, 'diaphoresis': 1, 'dypsnea': 1, 'the': 63, 'fairly': 2, 'constant': 1, 'did': 2, 'not': 6, 'resolve': 1, 'given': 3, 'sl': 1, 'ntg': 1, 'at': 12, 'am': 1, 'by': 3, 'ems': 1, 'been': 2, 'free': 2, 'since': 1, 'presenting': 2, 'vitals': 1, 'bp': 4, 'hr': 2, 'od': 2, 'sat': 2, 'on': 28, 'ra': 1, 'cxr': 2, 'showed': 6, 'congestive': 2, 'initial': 2, 'troponini': 1, 'mildly': 3, 'elevated': 3, 'ck': 3, 'aspirin': 2, 'furosemide': 1, 'mg': 14, 'iv': 3, 'dddcc': 1, 'diuresis': 3, 'nitropaste': 1, 'lovenox': 2, 'sq': 1, 'during': 1, 'ambulance': 1, 'transfer': 4, 'hospitald': 3, 'received': 1, 'cc': 1, 'ivf': 2, 'for': 13, 'low': 2, 'further': 3, 'questioning': 1, 'very': 2, 'poor': 1, 'exercise': 1, 'tolerance': 1, 'due': 3, 'knee': 1, 'that': 6, 'attributes': 1, 'osteoarthritis': 2, 'but': 7, 'says': 1, 'gets': 1, 'similar': 1, 'had': 8, 'night': 1, 'minimal': 1, 'exertion': 2, 'picking': 1, 'lb': 1, 'cat': 1, 'carrying': 1, 'gallon': 1, 'jug': 1, 'water': 1, 'first': 3, 'getting': 2, 'from': 3, 'sitting': 3, 'walk': 2, 'bedroom': 1, 'dyspnea': 4, 'relieved': 1, 'few': 2, 'minutes': 2, 'rest': 1, 'symptoms': 1, 'occur': 1, 'about': 1, 'every': 2, 'day': 2, 'other': 3, 'have': 2, 'stable': 2, 'over': 2, 'past': 2, 'year': 1, 'denies': 1, 'orthopnea': 1, 'paroxysmal': 2, 'nocturnal': 1, 'does': 1, 'endorse': 1, 'exertional': 1, 'cannot': 1, 'identify': 1, 'amount': 1, 'required': 1, 'currently': 2, 'dyspneic': 1, 'feels': 1, 'somewhat': 1, 'better': 1, 'reports': 1, 'no': 16, 'ros': 1, 'positive': 1, 'nose': 1, 'bleed': 1, 'requiring': 2, 'ed': 1, 'visit': 1, 'several': 1, 'months': 1, 'ago': 1, 'cessation': 1, 'plavix': 2, 'days': 1, 'gross': 1, 'hematuria': 5, 'after': 9, 'foley': 2, 'placement': 2, 'medical': 1, 'coronary': 5, 'artery': 5, 'twice': 4, 'vide': 1, 'infra': 1, 'occluded': 1, 'common': 1, 'iliac': 2, 'stenting': 1, 'femoraltofemoral': 1, 'angioplasty': 1, 'profunda': 1, 'ischemic': 1, 'cardiomyopathy': 1, 'lv': 1, 'reported': 1, 'lvef': 3, 'moderatesevere': 2, 'dyslipidemia': 1, 'cardiac': 3, 'percutaneous': 1, 'intervention': 1, 'anatomy': 2, 'as': 10, 'follows': 1, 'patent': 5, 'svg': 2, 'omd': 1, 'pda': 2, 'which': 5, 'filled': 1, 'distal': 1, 'well': 3, 'rpl': 1, 'via': 2, 'jump': 2, 'segment': 2, 'stump': 2, 'occlusion': 1, 'graft': 3, 'presumably': 1, 'system': 1, 'one': 3, 'could': 4, 'documented': 1, \"svg's\": 1, 'were': 3, 'able': 1, 'selectively': 1, 'engaged': 1, 'supravalvular': 1, 'aortography': 1, 'demonstrated': 1, 'grafts': 1, 'lima': 1, 'midlad': 1, 'backperfused': 1, 'diagonal': 2, 'interposed': 1, 'between': 1, 'lad': 1, 'social': 2, 'significant': 1, 'absence': 1, 'current': 2, 'tobacco': 1, 'use': 2, 'there': 8, 'alcohol': 1, 'abuse': 1, 'family': 2, 'extensive': 1, 'early': 1, 'father': 1, 'died': 2, 'mi': 1, 'brother': 1, \"dd's\": 2, 'sister': 1, 'stroke': 1, 'physical': 1, 'exam': 2, 'gen': 1, 'elderly': 1, 'white': 1, 'male': 1, 'nad': 1, 'oriented': 1, 'xd': 1, 'vs': 1, 't': 1, 'afib': 2, 'rr': 1, 'nrb': 1, 'heent': 1, 'ncat': 1, 'sclera': 1, 'anicteric': 1, 'perrl': 1, 'eomi': 1, 'conjunctiva': 1, 'pink': 1, 'pallor': 1, 'cyanosis': 1, 'oral': 1, 'mucosa': 1, 'xanthalesma': 1, 'neck': 1, 'jvp': 1, 'near': 1, 'angle': 1, 'jaw': 1, 'cv': 1, 'pmi': 1, 'diffuse': 1, 'laterally': 1, 'displaced': 1, 'rate': 2, 'irregular': 1, 'normal': 4, 'sd': 2, 'midlate': 1, 'peaking': 1, 'murmur': 1, 'throughout': 2, 'precordium': 1, 'loudest': 1, 'apex': 1, 'gallop': 1, 'appear': 1, 'tachypneic': 1, 'some': 1, 'accesorry': 1, 'muscle': 1, 'wall': 2, 'deformities': 1, 'scoliosis': 1, 'kyphosis': 1, 'lungs': 2, 'crackles': 2, 'way': 1, 'lr': 1, 'abd': 2, 'soft': 1, 'ntnd': 1, 'hsm': 1, 'tenderness': 1, 'aorta': 1, 'enlarged': 2, 'palpation': 1, 'abdominial': 1, 'bruits': 2, 'ext': 1, 'femoral': 1, 'palpate': 1, 'dp': 1, 'tp': 1, 'pulses': 1, 'dopplerable': 1, 'skin': 1, 'stasis': 1, 'dermatitis': 1, 'ulcers': 1, 'scars': 1, 'xanthomas': 1, 'pertinent': 1, 'results': 1, 'ddddam': 5, 'blood': 16, 'wbcdd': 1, 'rbcddd': 1, 'hgbddd': 1, 'hctddd': 1, 'mcvdd': 1, 'mchddd': 1, 'mchcddd': 1, 'rdwddd': 1, 'plt': 2, 'ctddd': 2, 'ddddpm': 10, 'neutsddd': 1, 'lymphsddd': 1, 'monosdd': 1, 'eosdd': 1, 'basodd': 1, 'lpltd': 1, 'fibrinoddd': 1, 'glucoseddd': 1, 'ureandd': 1, 'creatdd': 1, 'naddd': 1, 'kdd': 1, 'cldd': 1, 'hcoddd': 1, 'angapdd': 1, 'altdd': 1, 'astdd': 1, 'alkphosdd': 1, 'totbilidd': 1, 'dirbilidd': 1, 'indbilidd': 1, 'ckmbdd': 2, 'mb': 2, 'indxdd': 2, 'ctropntddd': 6, 'probnpnumeric': 1, 'identifier': 1, 'ckmbd': 4, 'caltibcddd': 1, 'ferritndd': 1, 'trfddd': 1, 'tshdd': 1, 'ecg': 1, 'pm': 2, 'rhythm': 5, 'most': 3, 'likely': 3, 'sinus': 2, 'frequent': 3, 'premature': 4, 'beats': 4, 'occasional': 1, 'bigeminal': 1, 'pattern': 1, 'are': 6, 'atrial': 7, 'intraventricular': 1, 'conduction': 1, 'defect': 1, 'hypertrophy': 3, 'stt': 1, 'wave': 1, 'changes': 3, 'related': 2, 'compared': 3, 'previous': 2, 'tracing': 1, 'more': 1, 'clinical': 1, 'correlation': 1, 'suggested': 1, 'patient': 9, 'median': 1, 'sternotomy': 1, 'size': 3, 'appears': 1, 'slightly': 1, 'study': 1, 'bilateral': 3, 'perihilar': 1, 'haziness': 1, 'continues': 1, 'toward': 1, 'lower': 1, 'new': 3, 'consistent': 3, 'tosevere': 1, 'pulmonary': 5, 'edema': 4, 'pleural': 2, 'effusion': 2, 'part': 1, 'retrocardiac': 1, 'opacities': 1, 'atelectasis': 2, 'atrium': 1, 'dilated': 1, 'symmetric': 1, 'cavity': 1, 'regional': 2, 'dysfunction': 2, 'akinesis': 2, 'basal': 2, 'half': 2, 'inferior': 2, 'inferolaterl': 1, 'walls': 2, 'hypokinesis': 2, 'remaining': 1, 'segments': 1, 'masses': 1, 'thrombi': 1, 'seen': 3, 'ventricle': 1, 'tissue': 1, 'doppler': 1, 'imaging': 1, 'suggests': 1, 'increased': 2, 'filling': 1, 'pressure': 3, 'pcwpddmmhg': 1, 'chamber': 1, 'global': 1, 'valve': 5, 'leaflets': 2, 'moderately': 1, 'thickened': 2, 'area': 1, 'trace': 1, 'determined': 1, 'pericardial': 1, 'prior': 3, 'report': 1, 'images': 1, 'unavailable': 1, 'function': 3, 'now': 1, 'depressed': 1, 'severity': 1, 'brief': 1, 'course': 1, 'daily': 4, 'angina': 1, 'transferred': 3, 'workup': 1, 'treatment': 1, 'xray': 3, 'performed': 1, 'stably': 1, 'troponin': 2, 'thought': 1, 'acute': 5, 'demand': 1, 'ischemia': 1, 'started': 5, 'lasix': 6, 'drop': 1, 'mghr': 1, 'initiation': 1, 'initially': 3, 'tolerated': 1, 'however': 1, 'approximately': 2, 'floor': 3, 'ccu': 3, 'complaining': 1, 'bed': 1, 'dinner': 1, 'being': 1, 'evaluated': 1, 'housestaff': 1, 'became': 5, 'unresponsive': 1, 'pulseless': 2, 'electrical': 2, 'arrest': 5, 'compressions': 1, 'within': 1, 'responsive': 1, 'regained': 1, 'palpable': 1, 'pulse': 1, 'appeared': 1, 'fibrillation': 4, 'dds': 2, 'rising': 1, \"ddd's\": 1, 'review': 1, 'telemetry': 3, 'fibillation': 1, 'earlier': 1, 'without': 2, 'obvious': 1, 'arrhythmias': 1, 'immediately': 1, 'attributed': 1, 'vasovagal': 1, 'episode': 2, 'setting': 1, 'levophed': 3, 'hypotension': 4, 'amiodarone': 4, 'interval': 1, 'worsening': 2, 'effusions': 1, 'bibasilar': 1, 'time': 1, 'enzymes': 1, 'ekg': 2, 'nstemi': 1, 'transthoracic': 1, 'echocardiogram': 1, 'inferolateral': 1, 'aggressively': 1, 'diuresed': 1, 'drip': 4, 'improvement': 3, 'oxygen': 1, 'requirement': 1, 'discontinued': 2, 'pressures': 1, 'remained': 3, 'off': 1, 'pressors': 1, \"map's\": 1, 'back': 1, 'team': 1, 'po': 5, 'continued': 1, 'good': 1, 'urine': 1, 'output': 1, 'renal': 6, 'asymptomatic': 1, 'maintained': 2, 'heparin': 1, 'bridging': 1, 'coumadin': 1, 'metoprolol': 1, 'held': 2, 'icu': 1, 'relative': 2, 'sbp': 1, 'ddds': 1, 'upon': 1, 'aceinhibitor': 1, 'creat': 1, 'consult': 1, 'deemed': 1, 'him': 1, 'acceptable': 1, 'candidate': 1, 'drd': 1, 'open': 1, 'replacement': 2, 'pending': 1, 'reassessment': 1, 'intermediateterm': 1, 'plan': 1, 'allow': 1, 'recovery': 1, 'discussion': 1, 'outpatient': 1, 'primary': 1, 'cardiologist': 1, 'regarding': 1, 'risks': 1, 'benefits': 1, 'hypotensive': 1, 'sbps': 1, 'ddsdds': 1, 'into': 2, 'chair': 1, 'breakfast': 1, 'dl': 1, 'ns': 1, 'response': 1, 'mentating': 1, 'short': 1, 'brought': 1, 'catherization': 1, 'laboratory': 1, 'potential': 1, 'emergent': 1, 'valvuloplasty': 1, 'intubated': 1, 'point': 1, 'suffered': 1, 'pea': 2, 'resuscitated': 1, 'pronounced': 1, 'deceased': 2, 'pump': 1, 'above': 3, 'revealing': 1, 'lung': 1, 'fields': 1, 'treated': 2, 'transitioned': 1, 'nsr': 1, 'hd': 1, 'then': 2, 'went': 1, 'described': 1, 'event': 1, 'tid': 1, 'tapered': 1, 'subsequent': 1, 'weeks': 1, 'declined': 1, 'creatinine': 1, 'improved': 1, 'gtt': 1, 'stayed': 1, 'baseline': 1, 'clots': 1, 'traumatic': 2, 'catheter': 2, 'removed': 1, 'gradual': 1, 'resolution': 1, 'failre': 1, 'metformin': 2, 'humalog': 1, 'sliding': 1, 'scale': 1, 'units': 1, 'lantus': 1, 'bedtime': 1, 'hematoma': 2, 'small': 1, 'site': 1, 'access': 1, 'removal': 1, 'local': 1, 'compression': 1, 'medications': 2, 'atenolol': 1, 'isordil': 1, 'hctz': 1, 'lisinopril': 1, 'gemfibrozil': 1, 'simvastatin': 1, 'glipizide': 1, 'xl': 1, 'unknown': 1, 'dose': 1, 'protonix': 1, 'thiamine': 1, 'bdd': 1, 'bd': 1, 'folate': 1, 'none': 3, 'disposition': 1, 'expired': 1, 'diagnosis': 1, 'nonst': 1, 'myocardial': 1, 'infarction': 1, 'cardiogenic': 1, 'shock': 1, 'pressor': 1, 'support': 1, 'activity': 1, 'diastolic': 1, 'condition': 1, 'instructions': 2, 'followup': 1, 'doctor': 1, 'named': 3, 'namepatternd': 1, 'md': 3, 'msc': 1}\n"
     ]
    }
   ],
   "source": [
    "print(wordListToFreqDict({}, df_notes_diabetes['TOKENS'][0]))"
   ]
  },
  {
   "cell_type": "code",
   "execution_count": 32,
   "metadata": {},
   "outputs": [],
   "source": [
    "wordCorpus = {}\n",
    "\n",
    "for tokens in df_notes_diabetes['TOKENS']:\n",
    "  wordCorpus = wordListToFreqDict(wordCorpus, tokens)"
   ]
  },
  {
   "cell_type": "code",
   "execution_count": null,
   "metadata": {},
   "outputs": [],
   "source": [
    "print(df_notes_diabetes['TOKENS'][0].len())"
   ]
  },
  {
   "cell_type": "code",
   "execution_count": null,
   "metadata": {},
   "outputs": [],
   "source": []
  }
 ],
 "metadata": {
  "interpreter": {
   "hash": "d114184c886ba29bffe38c6c6fdadc7ffef7ccc1b8a3a158ab752daf223c4cdc"
  },
  "kernelspec": {
   "display_name": "Python 3.8.12 ('cs598')",
   "language": "python",
   "name": "python3"
  },
  "language_info": {
   "codemirror_mode": {
    "name": "ipython",
    "version": 3
   },
   "file_extension": ".py",
   "mimetype": "text/x-python",
   "name": "python",
   "nbconvert_exporter": "python",
   "pygments_lexer": "ipython3",
   "version": "3.8.12"
  },
  "orig_nbformat": 4
 },
 "nbformat": 4,
 "nbformat_minor": 2
}
