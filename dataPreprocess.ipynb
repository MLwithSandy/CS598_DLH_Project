{
 "cells": [
  {
   "cell_type": "code",
   "execution_count": 7,
   "metadata": {},
   "outputs": [],
   "source": [
    "import pandas as pd\n"
   ]
  },
  {
   "cell_type": "code",
   "execution_count": 8,
   "metadata": {},
   "outputs": [
    {
     "name": "stdout",
     "output_type": "stream",
     "text": [
      "   ROW_ID  SUBJECT_ID  HADM_ID  SEQ_NUM ICD9_CODE\n",
      "0    1297         109   172335      1.0     40301\n",
      "1    1298         109   172335      2.0       486\n",
      "2    1299         109   172335      3.0     58281\n",
      "3    1300         109   172335      4.0      5855\n",
      "4    1301         109   172335      5.0      4254\n"
     ]
    }
   ],
   "source": [
    "df_diag = pd.DataFrame()\n",
    "temp = pd.read_csv('../data/DIAGNOSES_ICD.csv', iterator=True, chunksize=1000)\n",
    "df_diag = pd.concat(temp, ignore_index=True)\n",
    "print(df_diag.head(5))\n"
   ]
  },
  {
   "cell_type": "code",
   "execution_count": 10,
   "metadata": {},
   "outputs": [
    {
     "name": "stdout",
     "output_type": "stream",
     "text": [
      "   ROW_ID  SUBJECT_ID   HADM_ID   CHARTDATE CHARTTIME STORETIME  \\\n",
      "0     174       22532  167853.0  2151-08-04       NaN       NaN   \n",
      "1     175       13702  107527.0  2118-06-14       NaN       NaN   \n",
      "2     176       13702  167118.0  2119-05-25       NaN       NaN   \n",
      "3     177       13702  196489.0  2124-08-18       NaN       NaN   \n",
      "4     178       26880  135453.0  2162-03-25       NaN       NaN   \n",
      "\n",
      "            CATEGORY DESCRIPTION  CGID  ISERROR  \\\n",
      "0  Discharge summary      Report   NaN      NaN   \n",
      "1  Discharge summary      Report   NaN      NaN   \n",
      "2  Discharge summary      Report   NaN      NaN   \n",
      "3  Discharge summary      Report   NaN      NaN   \n",
      "4  Discharge summary      Report   NaN      NaN   \n",
      "\n",
      "                                                TEXT  \n",
      "0  Admission Date:  [**2151-7-16**]       Dischar...  \n",
      "1  Admission Date:  [**2118-6-2**]       Discharg...  \n",
      "2  Admission Date:  [**2119-5-4**]              D...  \n",
      "3  Admission Date:  [**2124-7-21**]              ...  \n",
      "4  Admission Date:  [**2162-3-3**]              D...  \n"
     ]
    }
   ],
   "source": [
    "df_notes = pd.DataFrame()\n",
    "temp = pd.read_csv('../data/NOTEEVENTS.csv', iterator=True, chunksize=1000)\n",
    "df_notes = pd.concat(temp, ignore_index=True)\n",
    "print(df_notes.head(5))\n"
   ]
  },
  {
   "cell_type": "code",
   "execution_count": 11,
   "metadata": {},
   "outputs": [
    {
     "name": "stdout",
     "output_type": "stream",
     "text": [
      "(2083180, 11)\n",
      "(651047, 5)\n"
     ]
    }
   ],
   "source": [
    "print(df_notes.shape)\n",
    "print(df_diag.shape)"
   ]
  },
  {
   "cell_type": "code",
   "execution_count": 12,
   "metadata": {},
   "outputs": [
    {
     "name": "stdout",
     "output_type": "stream",
     "text": [
      "(10318, 1)\n",
      "   SUBJECT_ID\n",
      "0         117\n",
      "2         123\n",
      "3         130\n",
      "5         135\n",
      "6         137\n"
     ]
    }
   ],
   "source": [
    "\n",
    "# Unique subject IDs with Diabetes\n",
    "df_sub_id_diabetes = df_diag[df_diag['ICD9_CODE'].str.startswith(\"250\", na = False)]['SUBJECT_ID'].to_frame()\n",
    "\n",
    "df_sub_id_diabetes = df_sub_id_diabetes.reset_index(drop=True)\n",
    "df_sub_id_diabetes = df_sub_id_diabetes.drop_duplicates()\n",
    "print(df_sub_id_diabetes.shape)\n",
    "print(df_sub_id_diabetes.head())"
   ]
  },
  {
   "cell_type": "code",
   "execution_count": 13,
   "metadata": {},
   "outputs": [
    {
     "name": "stdout",
     "output_type": "stream",
     "text": [
      "(215909, 5)\n",
      "   ROW_ID  SUBJECT_ID  HADM_ID  SEQ_NUM ICD9_CODE\n",
      "0    1523         117   140784      1.0      5715\n",
      "1    1524         117   140784      2.0      7895\n"
     ]
    }
   ],
   "source": [
    "df_diag_diabetes = pd.merge(df_diag, df_sub_id_diabetes, on=['SUBJECT_ID'], how='inner')\n",
    "print(df_diag_diabetes.shape)\n",
    "print(df_diag_diabetes.head(2))\n",
    "\n"
   ]
  },
  {
   "cell_type": "code",
   "execution_count": 14,
   "metadata": {},
   "outputs": [
    {
     "name": "stdout",
     "output_type": "stream",
     "text": [
      "(540427, 11)\n",
      "   ROW_ID  SUBJECT_ID   HADM_ID   CHARTDATE CHARTTIME STORETIME  \\\n",
      "0     184       28063  121936.0  2125-02-16       NaN       NaN   \n",
      "1   59801       28063  121936.0  2125-02-12       NaN       NaN   \n",
      "\n",
      "            CATEGORY DESCRIPTION  CGID  ISERROR  \\\n",
      "0  Discharge summary      Report   NaN      NaN   \n",
      "1               Echo      Report   NaN      NaN   \n",
      "\n",
      "                                                TEXT  \n",
      "0  Admission Date:  [**2125-2-9**]              D...  \n",
      "1  PATIENT/TEST INFORMATION:\\nIndication: Aortic ...  \n"
     ]
    }
   ],
   "source": [
    "df_notes_diabetes = pd.merge(df_notes, df_sub_id_diabetes, on=['SUBJECT_ID'], how='inner')\n",
    "print(df_notes_diabetes.shape)\n",
    "print(df_notes_diabetes.head(2))"
   ]
  },
  {
   "cell_type": "code",
   "execution_count": 16,
   "metadata": {},
   "outputs": [],
   "source": [
    "from string import punctuation\n",
    "my_punctuation = punctuation.replace(\"'\", \"\")\n",
    "df_notes_diabetes['TEXT'] = df_notes_diabetes['TEXT'].str.translate(str.maketrans(\"\", \"\", my_punctuation))"
   ]
  },
  {
   "cell_type": "code",
   "execution_count": 17,
   "metadata": {},
   "outputs": [
    {
     "data": {
      "text/plain": [
       "0    Admission Date  212529              Discharge ...\n",
       "1    PATIENTTEST INFORMATION\\nIndication Aortic val...\n",
       "2    PATIENTTEST INFORMATION\\nIndication  Aortic va...\n",
       "3    Sinus rhythm  Frequent atrial premature beats ...\n",
       "4    Rhythm is most likely sinus rhythm with freque...\n",
       "Name: TEXT, dtype: object"
      ]
     },
     "execution_count": 17,
     "metadata": {},
     "output_type": "execute_result"
    }
   ],
   "source": [
    "df_notes_diabetes['TEXT'].head(5)"
   ]
  },
  {
   "cell_type": "code",
   "execution_count": 18,
   "metadata": {},
   "outputs": [
    {
     "data": {
      "text/plain": [
       "0    Admission Date  dddddd              Discharge ...\n",
       "1    PATIENTTEST INFORMATION\\nIndication Aortic val...\n",
       "2    PATIENTTEST INFORMATION\\nIndication  Aortic va...\n",
       "3    Sinus rhythm  Frequent atrial premature beats ...\n",
       "4    Rhythm is most likely sinus rhythm with freque...\n",
       "Name: TEXT, dtype: object"
      ]
     },
     "execution_count": 18,
     "metadata": {},
     "output_type": "execute_result"
    }
   ],
   "source": [
    "import re\n",
    "\n",
    "df_notes_diabetes['TEXT'] = df_notes_diabetes['TEXT'].replace('[\\d]', 'd',regex=True)\n",
    "df_notes_diabetes['TEXT'].head(5)"
   ]
  },
  {
   "cell_type": "code",
   "execution_count": 19,
   "metadata": {},
   "outputs": [
    {
     "data": {
      "text/html": [
       "<div>\n",
       "<style scoped>\n",
       "    .dataframe tbody tr th:only-of-type {\n",
       "        vertical-align: middle;\n",
       "    }\n",
       "\n",
       "    .dataframe tbody tr th {\n",
       "        vertical-align: top;\n",
       "    }\n",
       "\n",
       "    .dataframe thead th {\n",
       "        text-align: right;\n",
       "    }\n",
       "</style>\n",
       "<table border=\"1\" class=\"dataframe\">\n",
       "  <thead>\n",
       "    <tr style=\"text-align: right;\">\n",
       "      <th></th>\n",
       "      <th>ROW_ID</th>\n",
       "      <th>SUBJECT_ID</th>\n",
       "      <th>HADM_ID</th>\n",
       "      <th>CHARTDATE</th>\n",
       "      <th>CHARTTIME</th>\n",
       "      <th>STORETIME</th>\n",
       "      <th>CATEGORY</th>\n",
       "      <th>DESCRIPTION</th>\n",
       "      <th>CGID</th>\n",
       "      <th>ISERROR</th>\n",
       "      <th>TEXT</th>\n",
       "    </tr>\n",
       "  </thead>\n",
       "  <tbody>\n",
       "    <tr>\n",
       "      <th>0</th>\n",
       "      <td>184</td>\n",
       "      <td>28063</td>\n",
       "      <td>121936.0</td>\n",
       "      <td>2125-02-16</td>\n",
       "      <td>NaN</td>\n",
       "      <td>NaN</td>\n",
       "      <td>Discharge summary</td>\n",
       "      <td>Report</td>\n",
       "      <td>NaN</td>\n",
       "      <td>NaN</td>\n",
       "      <td>admission date  dddddd              discharge ...</td>\n",
       "    </tr>\n",
       "    <tr>\n",
       "      <th>1</th>\n",
       "      <td>59801</td>\n",
       "      <td>28063</td>\n",
       "      <td>121936.0</td>\n",
       "      <td>2125-02-12</td>\n",
       "      <td>NaN</td>\n",
       "      <td>NaN</td>\n",
       "      <td>Echo</td>\n",
       "      <td>Report</td>\n",
       "      <td>NaN</td>\n",
       "      <td>NaN</td>\n",
       "      <td>patienttest information\\nindication aortic val...</td>\n",
       "    </tr>\n",
       "    <tr>\n",
       "      <th>2</th>\n",
       "      <td>59802</td>\n",
       "      <td>28063</td>\n",
       "      <td>121936.0</td>\n",
       "      <td>2125-02-11</td>\n",
       "      <td>NaN</td>\n",
       "      <td>NaN</td>\n",
       "      <td>Echo</td>\n",
       "      <td>Report</td>\n",
       "      <td>NaN</td>\n",
       "      <td>NaN</td>\n",
       "      <td>patienttest information\\nindication  aortic va...</td>\n",
       "    </tr>\n",
       "    <tr>\n",
       "      <th>3</th>\n",
       "      <td>105548</td>\n",
       "      <td>28063</td>\n",
       "      <td>121936.0</td>\n",
       "      <td>2125-02-10</td>\n",
       "      <td>NaN</td>\n",
       "      <td>NaN</td>\n",
       "      <td>ECG</td>\n",
       "      <td>Report</td>\n",
       "      <td>NaN</td>\n",
       "      <td>NaN</td>\n",
       "      <td>sinus rhythm  frequent atrial premature beats ...</td>\n",
       "    </tr>\n",
       "    <tr>\n",
       "      <th>4</th>\n",
       "      <td>105549</td>\n",
       "      <td>28063</td>\n",
       "      <td>121936.0</td>\n",
       "      <td>2125-02-09</td>\n",
       "      <td>NaN</td>\n",
       "      <td>NaN</td>\n",
       "      <td>ECG</td>\n",
       "      <td>Report</td>\n",
       "      <td>NaN</td>\n",
       "      <td>NaN</td>\n",
       "      <td>rhythm is most likely sinus rhythm with freque...</td>\n",
       "    </tr>\n",
       "  </tbody>\n",
       "</table>\n",
       "</div>"
      ],
      "text/plain": [
       "   ROW_ID  SUBJECT_ID   HADM_ID   CHARTDATE CHARTTIME STORETIME  \\\n",
       "0     184       28063  121936.0  2125-02-16       NaN       NaN   \n",
       "1   59801       28063  121936.0  2125-02-12       NaN       NaN   \n",
       "2   59802       28063  121936.0  2125-02-11       NaN       NaN   \n",
       "3  105548       28063  121936.0  2125-02-10       NaN       NaN   \n",
       "4  105549       28063  121936.0  2125-02-09       NaN       NaN   \n",
       "\n",
       "            CATEGORY DESCRIPTION  CGID  ISERROR  \\\n",
       "0  Discharge summary      Report   NaN      NaN   \n",
       "1               Echo      Report   NaN      NaN   \n",
       "2               Echo      Report   NaN      NaN   \n",
       "3                ECG      Report   NaN      NaN   \n",
       "4                ECG      Report   NaN      NaN   \n",
       "\n",
       "                                                TEXT  \n",
       "0  admission date  dddddd              discharge ...  \n",
       "1  patienttest information\\nindication aortic val...  \n",
       "2  patienttest information\\nindication  aortic va...  \n",
       "3  sinus rhythm  frequent atrial premature beats ...  \n",
       "4  rhythm is most likely sinus rhythm with freque...  "
      ]
     },
     "execution_count": 19,
     "metadata": {},
     "output_type": "execute_result"
    }
   ],
   "source": [
    "df_notes_diabetes['TEXT'] = df_notes_diabetes['TEXT'].str.lower()\n",
    "\n",
    "df_notes_diabetes.head(5)"
   ]
  },
  {
   "cell_type": "code",
   "execution_count": 22,
   "metadata": {},
   "outputs": [],
   "source": [
    "df_notes_diabetes['TOKENS'] = df_notes_diabetes['TEXT'].str.split()\n",
    "print(df_notes_diabetes.head(5))"
   ]
  },
  {
   "cell_type": "code",
   "execution_count": null,
   "metadata": {},
   "outputs": [],
   "source": []
  }
 ],
 "metadata": {
  "interpreter": {
   "hash": "d114184c886ba29bffe38c6c6fdadc7ffef7ccc1b8a3a158ab752daf223c4cdc"
  },
  "kernelspec": {
   "display_name": "Python 3.8.12 ('cs598')",
   "language": "python",
   "name": "python3"
  },
  "language_info": {
   "codemirror_mode": {
    "name": "ipython",
    "version": 3
   },
   "file_extension": ".py",
   "mimetype": "text/x-python",
   "name": "python",
   "nbconvert_exporter": "python",
   "pygments_lexer": "ipython3",
   "version": "3.8.12"
  },
  "orig_nbformat": 4
 },
 "nbformat": 4,
 "nbformat_minor": 2
}
