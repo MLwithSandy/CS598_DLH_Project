{
 "cells": [
  {
   "cell_type": "code",
   "execution_count": 11,
   "metadata": {},
   "outputs": [],
   "source": [
    "import pandas as pd\n",
    "from sklearn.preprocessing import MultiLabelBinarizer\n",
    "import pickle as pkl\n",
    "import gzip\n",
    "import os.path\n",
    "\n",
    "DATA_DIR = '../data/'"
   ]
  },
  {
   "cell_type": "code",
   "execution_count": 2,
   "metadata": {},
   "outputs": [
    {
     "name": "stdout",
     "output_type": "stream",
     "text": [
      "(651047, 3)\n",
      "   SUBJECT_ID  HADM_ID ICD9_CODE\n",
      "0         109   172335     40301\n",
      "1         109   172335       486\n"
     ]
    }
   ],
   "source": [
    "df_diag = (pd.read_csv(f'{DATA_DIR}DIAGNOSES_ICD.csv.gz')\n",
    "                    .reset_index(drop=True)[['SUBJECT_ID','HADM_ID','ICD9_CODE']])\n",
    "print(df_diag.shape)\n",
    "print(df_diag.head(2))"
   ]
  },
  {
   "cell_type": "code",
   "execution_count": 3,
   "metadata": {},
   "outputs": [
    {
     "name": "stdout",
     "output_type": "stream",
     "text": [
      "0    100001\n",
      "1    100009\n",
      "Name: HADM_ID, dtype: int64\n"
     ]
    }
   ],
   "source": [
    "df_diag_diabetes = (df_diag\n",
    "                    .dropna()\n",
    "                    .query(\"ICD9_CODE.str.startswith('250')\")\n",
    "                    .groupby('HADM_ID')\n",
    "                    ['ICD9_CODE']\n",
    "                    .unique()\n",
    "                    .reset_index())\n",
    "df_diag_diabetes = df_diag_diabetes['HADM_ID']\n",
    "print(df_diag_diabetes.head(2))"
   ]
  },
  {
   "cell_type": "code",
   "execution_count": 4,
   "metadata": {},
   "outputs": [
    {
     "name": "stdout",
     "output_type": "stream",
     "text": [
      "(199964, 4)\n",
      "   SUBJECT_ID  HADM_ID ICD9_CODE ICD9_CODE_ROLLED\n",
      "0         117   140784      5715              571\n",
      "1         117   140784      7895              789\n",
      "Num. of unique ICD9 codes:  4103\n",
      "Num. of unique rolled-up ICD9 codes:  781\n"
     ]
    }
   ],
   "source": [
    "df_diag_diabetes_rel = pd.merge(df_diag, df_diag_diabetes, on=['HADM_ID'], how='inner')\n",
    "df_diag_diabetes_rel['ICD9_CODE_ROLLED'] = df_diag_diabetes_rel['ICD9_CODE'].apply(lambda x: x[0:3])\n",
    "df_icd9_list = df_diag_diabetes_rel['ICD9_CODE'].unique()\n",
    "df_icd9_list.sort()\n",
    "df_icd9_rolled_list = df_diag_diabetes_rel['ICD9_CODE_ROLLED'].unique()\n",
    "df_icd9_rolled_list.sort()\n",
    "\n",
    "print(df_diag_diabetes_rel.shape)\n",
    "print(df_diag_diabetes_rel.head(2))\n",
    "print('Num. of unique ICD9 codes: ', len(df_icd9_list))\n",
    "print('Num. of unique rolled-up ICD9 codes: ', len(df_icd9_rolled_list))"
   ]
  },
  {
   "cell_type": "code",
   "execution_count": 9,
   "metadata": {},
   "outputs": [],
   "source": [
    "# Write unique ICD lists to file\n",
    "pkl.dump( df_icd9_list, open( f'{DATA_DIR}diag_icd9_unique_list.p', \"wb\" ) )\n",
    "pkl.dump( df_icd9_rolled_list, open( f'{DATA_DIR}diag_icd9_rolled_unique_list.p', \"wb\" ) )"
   ]
  },
  {
   "cell_type": "code",
   "execution_count": 5,
   "metadata": {},
   "outputs": [
    {
     "name": "stdout",
     "output_type": "stream",
     "text": [
      "(14222, 2)\n",
      "   HADM_ID                                          ICD9_CODE\n",
      "0   100001  [25013, 3371, 5849, 5780, V5867, 25063, 5363, ...\n",
      "1   100009  [41401, 99604, 4142, 25000, 27800, V8535, 4148...\n"
     ]
    }
   ],
   "source": [
    "df_diag_icd9 = (df_diag_diabetes_rel\n",
    "                .groupby('HADM_ID')\n",
    "                ['ICD9_CODE']\n",
    "                .unique()\n",
    "                .reset_index())\n",
    "print(df_diag_icd9.shape)\n",
    "print(df_diag_icd9.head(2))"
   ]
  },
  {
   "cell_type": "code",
   "execution_count": null,
   "metadata": {},
   "outputs": [],
   "source": []
  },
  {
   "cell_type": "code",
   "execution_count": 97,
   "metadata": {},
   "outputs": [
    {
     "name": "stdout",
     "output_type": "stream",
     "text": [
      "(14222, 2)\n",
      "   HADM_ID                                   ICD9_CODE_ROLLED\n",
      "0   100001  [250, 337, 584, 578, V58, 536, 458, 403, 585, ...\n",
      "1   100009  [414, 996, 250, 278, V85, 411, V45, V15, 285, ...\n"
     ]
    }
   ],
   "source": [
    "df_diag_icd9_rolled = (df_diag_diabetes_rel\n",
    "                .groupby('HADM_ID')\n",
    "                ['ICD9_CODE_ROLLED']\n",
    "                .unique()\n",
    "                .reset_index())\n",
    "print(df_diag_icd9_rolled.shape)\n",
    "print(df_diag_icd9_rolled.head(2))"
   ]
  },
  {
   "cell_type": "code",
   "execution_count": 160,
   "metadata": {},
   "outputs": [
    {
     "name": "stdout",
     "output_type": "stream",
     "text": [
      "   HADM_ID                                          ICD9_CODE  \\\n",
      "0   100001  [25013, 3371, 5849, 5780, V5867, 25063, 5363, ...   \n",
      "1   100009  [41401, 99604, 4142, 25000, 27800, V8535, 4148...   \n",
      "\n",
      "                                       ICD9_CODE_MLB  \n",
      "0  [0, 0, 0, 0, 0, 0, 0, 0, 0, 0, 0, 0, 0, 0, 0, ...  \n",
      "1  [0, 0, 0, 0, 0, 0, 0, 0, 0, 0, 0, 0, 0, 0, 0, ...  \n"
     ]
    }
   ],
   "source": [
    "icd9_mlb = MultiLabelBinarizer(classes=df_icd9_list).fit(df_diag_icd9['ICD9_CODE'])\n",
    "\n",
    "df_diag_icd9['ICD9_CODE_MLB'] = [x for x in icd9_mlb.transform(df_diag_icd9['ICD9_CODE'])]\n",
    "print(df_diag_icd9.head(2))"
   ]
  },
  {
   "cell_type": "code",
   "execution_count": 161,
   "metadata": {},
   "outputs": [
    {
     "name": "stdout",
     "output_type": "stream",
     "text": [
      "   HADM_ID                                   ICD9_CODE_ROLLED  \\\n",
      "0   100001  [250, 337, 584, 578, V58, 536, 458, 403, 585, ...   \n",
      "1   100009  [414, 996, 250, 278, V85, 411, V45, V15, 285, ...   \n",
      "\n",
      "                                ICD9_CODE_ROLLED_MLB  \n",
      "0  [0, 0, 0, 0, 0, 0, 0, 0, 0, 0, 0, 0, 0, 0, 0, ...  \n",
      "1  [0, 0, 0, 0, 0, 0, 0, 0, 0, 0, 0, 0, 0, 0, 0, ...  \n"
     ]
    }
   ],
   "source": [
    "icd9_rolled_mlb = MultiLabelBinarizer(classes=df_icd9_rolled_list).fit(df_diag_icd9_rolled['ICD9_CODE_ROLLED'])\n",
    "\n",
    "df_diag_icd9_rolled['ICD9_CODE_ROLLED_MLB'] = [x for x in icd9_rolled_mlb.transform(df_diag_icd9_rolled['ICD9_CODE_ROLLED'])]\n",
    "print(df_diag_icd9_rolled.head(2))"
   ]
  },
  {
   "cell_type": "code",
   "execution_count": 10,
   "metadata": {},
   "outputs": [
    {
     "name": "stdout",
     "output_type": "stream",
     "text": [
      "df_diag_icd9.shape:                 (14222, 3)\n",
      "df_diag_icd9_rolled.shape:          (14222, 3)\n"
     ]
    }
   ],
   "source": [
    "df_diag_icd9 = pkl.load(open(f'{DATA_DIR}diag_icd9.p','rb'))\n",
    "print('df_diag_icd9.shape:                ', df_diag_icd9.shape)\n",
    "\n",
    "df_diag_icd9_rolled = pkl.load(open(f'{DATA_DIR}diag_icd9_rolled.p','rb'))\n",
    "print('df_diag_icd9_rolled.shape:         ', df_diag_icd9_rolled.shape)"
   ]
  },
  {
   "cell_type": "code",
   "execution_count": 13,
   "metadata": {},
   "outputs": [
    {
     "name": "stdout",
     "output_type": "stream",
     "text": [
      "reading from saved file diag_icd9_file:  ../data/diag_icd9.csv.gz\n",
      "df_diag_icd9.type:  <class 'pandas.core.frame.DataFrame'>\n",
      "df_diag_icd9.shape:  (14222, 3)\n",
      "reading from saved file diag_icd9_rolled_file:  ../data/diag_icd9_rolled.csv.gz\n",
      "df_diag_icd9_rolled.type:  <class 'pandas.core.frame.DataFrame'>\n",
      "df_diag_icd9_rolled.shape:  (14222, 3)\n"
     ]
    }
   ],
   "source": [
    "diag_icd9_file = f'{DATA_DIR}diag_icd9.csv.gz'\n",
    "diag_icd9_rolled_file = f'{DATA_DIR}diag_icd9_rolled.csv.gz'\n",
    "\n",
    "if os.path.exists(diag_icd9_file):\n",
    "  print ('reading from saved file diag_icd9_file: ', diag_icd9_file)\n",
    "  with gzip.open(diag_icd9_file, \"rb\") as f:\n",
    "      df_diag_icd9 = pkl.load(f)\n",
    "  print('df_diag_icd9.type: ',type(df_diag_icd9))\n",
    "  print('df_diag_icd9.shape: ', df_diag_icd9.shape)\n",
    "else:\n",
    "  # save data and label to file\n",
    "  with gzip.open(diag_icd9_file, \"wb\") as f:\n",
    "      pkl.dump(df_diag_icd9, f)\n",
    "  print('df_diag_icd9 saved')\n",
    "\n",
    "if os.path.exists(diag_icd9_rolled_file):\n",
    "  print ('reading from saved file diag_icd9_rolled_file: ', diag_icd9_rolled_file)\n",
    "  with gzip.open(diag_icd9_rolled_file, \"rb\") as f:\n",
    "      df_diag_icd9_rolled = pkl.load(f)\n",
    "  print('df_diag_icd9_rolled.type: ',type(df_diag_icd9_rolled))\n",
    "  print('df_diag_icd9_rolled.shape: ', df_diag_icd9_rolled.shape)\n",
    "else:\n",
    "  # save data and label to file\n",
    "  with gzip.open(diag_icd9_rolled_file, \"wb\") as f:\n",
    "      pkl.dump(df_diag_icd9_rolled, f)\n",
    "  print('df_diag_icd9_rolled saved')\n",
    "\n",
    "# write to file\n",
    "# df_diag_icd9_rolled.to_pickle(f'{DATA_DIR}diag_icd9_rolled.p')\n",
    "# df_diag_icd9.to_pickle(f'{DATA_DIR}diag_icd9.p')"
   ]
  },
  {
   "cell_type": "code",
   "execution_count": 164,
   "metadata": {},
   "outputs": [],
   "source": [
    "# write to file\n",
    "\n",
    "# df_diag_diabetes.to_pickle(f'{DATA_DIR}diag_diabetes_hadm_ids.p')"
   ]
  }
 ],
 "metadata": {
  "interpreter": {
   "hash": "d114184c886ba29bffe38c6c6fdadc7ffef7ccc1b8a3a158ab752daf223c4cdc"
  },
  "kernelspec": {
   "display_name": "Python 3.8.12 ('cs598')",
   "language": "python",
   "name": "python3"
  },
  "language_info": {
   "codemirror_mode": {
    "name": "ipython",
    "version": 3
   },
   "file_extension": ".py",
   "mimetype": "text/x-python",
   "name": "python",
   "nbconvert_exporter": "python",
   "pygments_lexer": "ipython3",
   "version": "3.8.12"
  },
  "orig_nbformat": 4
 },
 "nbformat": 4,
 "nbformat_minor": 2
}
