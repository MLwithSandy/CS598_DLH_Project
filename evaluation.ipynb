{
 "cells": [
  {
   "cell_type": "code",
   "execution_count": 30,
   "metadata": {},
   "outputs": [],
   "source": [
    "import gzip\n",
    "import pickle as pkl\n",
    "import gc\n",
    "\n",
    "import numpy as np\n",
    "from tensorflow.keras.models import load_model\n",
    "from sklearn.metrics import precision_score, recall_score, f1_score\n"
   ]
  },
  {
   "cell_type": "code",
   "execution_count": 12,
   "metadata": {},
   "outputs": [],
   "source": [
    "DATA_PATH = \"../data/\"\n",
    "MODEL_PATH = \"../models/\""
   ]
  },
  {
   "cell_type": "code",
   "execution_count": 17,
   "metadata": {},
   "outputs": [
    {
     "name": "stdout",
     "output_type": "stream",
     "text": [
      "reading from saved file Data.npz:  ../data/dataTrainValTest.npz\n",
      "data file contents:  ['x_train', 'x_val', 'x_test', 'cats_train', 'cats_val', 'cats_test', 'reg_y_train', 'reg_y_val', 'reg_y_test', 'rol_y_train', 'rol_y_val', 'rol_y_test']\n",
      "x_test.shape:       (79925, 2199)\n",
      "cats_test.shape:    (79925, 15)\n",
      "reg_y_test.shape:   (79925, 4103)\n",
      "rol_y_test.shape:   (79925, 781)\n"
     ]
    }
   ],
   "source": [
    "DATA_NPZ_FILE = f'{DATA_PATH}dataTrainValTest.npz'\n",
    "\n",
    "\n",
    "print ('reading from saved file Data.npz: ', DATA_NPZ_FILE)\n",
    "data = np.load(DATA_NPZ_FILE)\n",
    "print('data file contents: ', data.files)\n",
    "\n",
    "x_test = data['x_test']\n",
    "cats_test = data['cats_test']\n",
    "reg_y_test = data['reg_y_test']\n",
    "rol_y_test = data['rol_y_test']\n",
    "\n",
    "print('x_test.shape:      ', x_test.shape)\n",
    "print('cats_test.shape:   ', cats_test.shape)\n",
    "print('reg_y_test.shape:  ', reg_y_test.shape)\n",
    "print('rol_y_test.shape:  ', rol_y_test.shape)\n"
   ]
  },
  {
   "cell_type": "code",
   "execution_count": 25,
   "metadata": {},
   "outputs": [],
   "source": [
    "# Load trained models\n",
    "\n",
    "model_bot_rolled = load_model(f'{MODEL_PATH}BOTModel.h5')\n",
    "# model_bot_regular = load_model(f'{MODEL_PATH}BOTModelRegular.h5')\n",
    "model_cnn3_rolled = load_model(f'{MODEL_PATH}CNN3LayerV2.h5')\n",
    "model_cnn3_regular = load_model(f'{MODEL_PATH}CNN3LayerRegularSet4.h5')\n",
    "model_cnnbaseline_rolled = load_model(f'{MODEL_PATH}CNNBaseline.h5')\n",
    "model_cnnbaseline_regular = load_model(f'{MODEL_PATH}CNNBaselineRegularSet4.h5')\n"
   ]
  },
  {
   "cell_type": "code",
   "execution_count": 27,
   "metadata": {},
   "outputs": [
    {
     "name": "stdout",
     "output_type": "stream",
     "text": [
      "reg_yhat_bot done...\n",
      "reg_yhat_cnn done..., reg_yhat_cnn.shape:  (79925, 4103)\n",
      "reg_yhat_cnn done..., reg_yhat_cnn3.shape:  (79925, 4103)\n",
      "rol_yhat_bot done..., rol_yhat_bot.shape:  (79925, 781)\n",
      "rol_yhat_cnn done..., rol_yhat_cnn.shape: (79925, 781)\n",
      "rol_yhat_cnn3 done..., rol_yhat_cnn3.shape:  (79925, 781)\n"
     ]
    }
   ],
   "source": [
    "# predict for test dataset using various models\n",
    "# reg_yhat_bot = model_bot_regular.predict(x_test)\n",
    "print('reg_yhat_bot done...')\n",
    "reg_yhat_cnn = model_cnnbaseline_regular.predict(x_test)\n",
    "print('reg_yhat_cnn done..., reg_yhat_cnn.shape: ', reg_yhat_cnn.shape)\n",
    "reg_yhat_cnn3 = model_cnn3_regular.predict(x_test)\n",
    "print('reg_yhat_cnn done..., reg_yhat_cnn3.shape: ', reg_yhat_cnn3.shape)\n",
    "\n",
    "\n",
    "rol_yhat_bot = model_bot_rolled.predict(x_test)\n",
    "print('rol_yhat_bot done..., rol_yhat_bot.shape: ', rol_yhat_bot.shape)\n",
    "\n",
    "rol_yhat_cnn = model_cnnbaseline_rolled.predict(x_test)\n",
    "print('rol_yhat_cnn done..., rol_yhat_cnn.shape:', rol_yhat_cnn.shape)\n",
    "\n",
    "rol_yhat_cnn3 = model_cnn3_rolled.predict(x_test)\n",
    "print('rol_yhat_cnn3 done..., rol_yhat_cnn3.shape: ', rol_yhat_cnn3.shape)\n"
   ]
  },
  {
   "cell_type": "code",
   "execution_count": 32,
   "metadata": {},
   "outputs": [],
   "source": [
    "def evaluate_model(y, yhat):\n",
    "    preds = np.around(yhat).astype(np.int32)\n",
    "    p = round(precision_score(y, preds, average='micro') * 100, 2)\n",
    "    r = round(recall_score(y, preds, average='micro') * 100, 2)\n",
    "    f1 = round(f1_score(y, preds, average='micro') * 100, 2)\n",
    "    return p, r, f1"
   ]
  },
  {
   "cell_type": "code",
   "execution_count": 36,
   "metadata": {},
   "outputs": [
    {
     "name": "stdout",
     "output_type": "stream",
     "text": [
      "CNN Regular (precision, recall, F1)        :  (74.98, 21.91, 33.91)\n",
      "CNN3 Regular (precision, recall, F1)       :  (75.95, 32.44, 45.46)\n",
      "BoT Rolled (precision, recall, F1)         :  (78.58, 31.81, 45.29)\n",
      "CNN Rolled (precision, recall, F1)         :  (79.14, 44.66, 57.1)\n",
      "CNN3 Rolled (precision, recall, F1)        :  (81.13, 43.56, 56.68)\n"
     ]
    }
   ],
   "source": [
    "\n",
    "reg_cnn_result = evaluate_model(reg_y_test, reg_yhat_cnn)\n",
    "print('CNN Regular (precision, recall, F1)        : ', reg_cnn_result)\n",
    "reg_cnn3_result = evaluate_model(reg_y_test, reg_yhat_cnn3)\n",
    "print('CNN3 Regular (precision, recall, F1)       : ', reg_cnn3_result)\n",
    "rol_bot_result = evaluate_model(rol_y_test, rol_yhat_bot)\n",
    "print('BoT Rolled (precision, recall, F1)         : ', rol_bot_result)\n",
    "rol_cnn_result = evaluate_model(rol_y_test, rol_yhat_cnn)\n",
    "print('CNN Rolled (precision, recall, F1)         : ', rol_cnn_result)\n",
    "rol_cnn3_result = evaluate_model(rol_y_test, rol_yhat_cnn3)\n",
    "print('CNN3 Rolled (precision, recall, F1)        : ', rol_cnn3_result)\n"
   ]
  },
  {
   "cell_type": "code",
   "execution_count": null,
   "metadata": {},
   "outputs": [],
   "source": []
  }
 ],
 "metadata": {
  "interpreter": {
   "hash": "d114184c886ba29bffe38c6c6fdadc7ffef7ccc1b8a3a158ab752daf223c4cdc"
  },
  "kernelspec": {
   "display_name": "Python 3.8.12 ('cs598')",
   "language": "python",
   "name": "python3"
  },
  "language_info": {
   "codemirror_mode": {
    "name": "ipython",
    "version": 3
   },
   "file_extension": ".py",
   "mimetype": "text/x-python",
   "name": "python",
   "nbconvert_exporter": "python",
   "pygments_lexer": "ipython3",
   "version": "3.8.12"
  },
  "orig_nbformat": 4
 },
 "nbformat": 4,
 "nbformat_minor": 2
}
