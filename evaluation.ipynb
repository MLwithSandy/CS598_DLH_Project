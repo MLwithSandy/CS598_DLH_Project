{
 "cells": [
  {
   "cell_type": "code",
   "execution_count": 1,
   "metadata": {},
   "outputs": [],
   "source": [
    "import gzip\n",
    "import pickle as pkl\n",
    "import gc\n",
    "\n",
    "import numpy as np\n",
    "from tensorflow.keras.models import load_model\n",
    "from sklearn.metrics import precision_score, recall_score, f1_score\n"
   ]
  },
  {
   "cell_type": "code",
   "execution_count": 4,
   "metadata": {},
   "outputs": [],
   "source": [
    "DATA_PATH = \"../data/\"\n",
    "MODEL_ORIG_PATH = \"../models_original/\"\n",
    "MODEL_PATH = \"../models/\"\n"
   ]
  },
  {
   "cell_type": "code",
   "execution_count": 3,
   "metadata": {},
   "outputs": [
    {
     "name": "stdout",
     "output_type": "stream",
     "text": [
      "reading from saved file Data.npz:  ../data/dataTrainValTest.npz\n",
      "data file contents:  ['x_train', 'x_val', 'x_test', 'cats_train', 'cats_val', 'cats_test', 'reg_y_train', 'reg_y_val', 'reg_y_test', 'rol_y_train', 'rol_y_val', 'rol_y_test']\n",
      "x_test.shape:       (79925, 2199)\n",
      "cats_test.shape:    (79925, 15)\n",
      "reg_y_test.shape:   (79925, 4103)\n",
      "rol_y_test.shape:   (79925, 781)\n"
     ]
    }
   ],
   "source": [
    "DATA_NPZ_FILE = f'{DATA_PATH}dataTrainValTest.npz'\n",
    "\n",
    "\n",
    "print ('reading from saved file Data.npz: ', DATA_NPZ_FILE)\n",
    "data = np.load(DATA_NPZ_FILE)\n",
    "print('data file contents: ', data.files)\n",
    "\n",
    "x_test = data['x_test']\n",
    "cats_test = data['cats_test']\n",
    "reg_y_test = data['reg_y_test']\n",
    "rol_y_test = data['rol_y_test']\n",
    "\n",
    "print('x_test.shape:      ', x_test.shape)\n",
    "print('cats_test.shape:   ', cats_test.shape)\n",
    "print('reg_y_test.shape:  ', reg_y_test.shape)\n",
    "print('rol_y_test.shape:  ', rol_y_test.shape)\n"
   ]
  },
  {
   "cell_type": "code",
   "execution_count": 6,
   "metadata": {},
   "outputs": [],
   "source": [
    "def evaluate_model(y, yhat):\n",
    "    preds = np.around(yhat).astype(np.int32)\n",
    "    p = round(precision_score(y, preds, average='micro') * 100, 2)\n",
    "    r = round(recall_score(y, preds, average='micro') * 100, 2)\n",
    "    f1 = round(f1_score(y, preds, average='micro') * 100, 2)\n",
    "    return p, r, f1"
   ]
  },
  {
   "cell_type": "code",
   "execution_count": 5,
   "metadata": {},
   "outputs": [
    {
     "name": "stderr",
     "output_type": "stream",
     "text": [
      "2022-05-04 23:09:24.307356: I tensorflow/core/platform/cpu_feature_guard.cc:151] This TensorFlow binary is optimized with oneAPI Deep Neural Network Library (oneDNN) to use the following CPU instructions in performance-critical operations:  AVX2 FMA\n",
      "To enable them in other operations, rebuild TensorFlow with the appropriate compiler flags.\n"
     ]
    }
   ],
   "source": [
    "# Load trained models with NO adjustment of initial weights\n",
    "\n",
    "model_orig_bot_rolled = load_model(f'{MODEL_ORIG_PATH}BOTModelOriginal.h5')\n",
    "model_orig_bot_regular = load_model(f'{MODEL_ORIG_PATH}BOTModelRegular.h5')\n",
    "model_orig_cnn3_rolled = load_model(f'{MODEL_ORIG_PATH}CNN3LayerOriginal.h5')\n",
    "model_orig_cnn3_regular = load_model(f'{MODEL_ORIG_PATH}CNN3LayerOriginalRegularPartialSet.h5')\n",
    "model_orig_cnnbaseline_rolled = load_model(f'{MODEL_ORIG_PATH}CNNBaselineOriginal.h5')\n",
    "model_orig_cnnbaseline_regular = load_model(f'{MODEL_ORIG_PATH}CNNModelRegularPartialDataset.h5')"
   ]
  },
  {
   "cell_type": "code",
   "execution_count": 8,
   "metadata": {},
   "outputs": [
    {
     "name": "stdout",
     "output_type": "stream",
     "text": [
      "reg_orig_yhat_bot done... reg_orig_yhat_bot.shape:  (79925, 4103)\n",
      "reg_orig_yhat_cnn done..., reg_orig_yhat_cnn.shape:  (79925, 4103)\n",
      "reg_orig_yhat_cnn3 done..., reg_orig_yhat_cnn3.shape:  (79925, 4103)\n",
      "rol_orig_yhat_bot done..., rol_orig_yhat_bot.shape:  (79925, 781)\n",
      "rol_orig_yhat_cnn done..., rol_orig_yhat_cnn.shape: (79925, 781)\n",
      "rol_orig_yhat_cnn3 done..., rol_yhat_cnn3.shape:  (79925, 781)\n"
     ]
    }
   ],
   "source": [
    "# predict for test dataset using various models\n",
    "reg_orig_yhat_bot = model_orig_bot_regular.predict(x_test)\n",
    "print('reg_orig_yhat_bot done... reg_orig_yhat_bot.shape: ', reg_orig_yhat_bot.shape)\n",
    "reg_orig_yhat_cnn = model_orig_cnnbaseline_regular.predict(x_test)\n",
    "print('reg_orig_yhat_cnn done..., reg_orig_yhat_cnn.shape: ', reg_orig_yhat_cnn.shape)\n",
    "reg_orig_yhat_cnn3 = model_orig_cnn3_regular.predict(x_test)\n",
    "print('reg_orig_yhat_cnn3 done..., reg_orig_yhat_cnn3.shape: ', reg_orig_yhat_cnn3.shape)\n",
    "\n",
    "\n",
    "rol_orig_yhat_bot = model_orig_bot_rolled.predict(x_test)\n",
    "print('rol_orig_yhat_bot done..., rol_orig_yhat_bot.shape: ', rol_orig_yhat_bot.shape)\n",
    "\n",
    "rol_orig_yhat_cnn = model_orig_cnnbaseline_rolled.predict(x_test)\n",
    "print('rol_orig_yhat_cnn done..., rol_orig_yhat_cnn.shape:', rol_orig_yhat_cnn.shape)\n",
    "\n",
    "rol_orig_yhat_cnn3 = model_orig_cnn3_rolled.predict(x_test)\n",
    "print('rol_orig_yhat_cnn3 done..., rol_yhat_cnn3.shape: ', rol_orig_yhat_cnn3.shape)"
   ]
  },
  {
   "cell_type": "code",
   "execution_count": 10,
   "metadata": {},
   "outputs": [
    {
     "name": "stdout",
     "output_type": "stream",
     "text": [
      "BoT Regular (precision, recall, F1)         :  (63.79, 5.04, 9.34)\n",
      "CNN Regular (precision, recall, F1)        :  (72.03, 15.82, 25.94)\n",
      "CNN3 Regular (precision, recall, F1)       :  (75.82, 30.71, 43.71)\n",
      "BoT Rolled (precision, recall, F1)         :  (85.67, 10.32, 18.43)\n",
      "CNN Rolled (precision, recall, F1)         :  (77.51, 28.68, 41.87)\n",
      "CNN3 Rolled (precision, recall, F1)        :  (79.56, 38.33, 51.73)\n"
     ]
    }
   ],
   "source": [
    "reg_orig_bot_result = evaluate_model(reg_y_test, reg_orig_yhat_bot)\n",
    "print('BoT Regular (precision, recall, F1)         : ', reg_orig_bot_result)\n",
    "reg_orig_cnn_result = evaluate_model(reg_y_test, reg_orig_yhat_cnn)\n",
    "print('CNN Regular (precision, recall, F1)        : ', reg_orig_cnn_result)\n",
    "reg_orig_cnn3_result = evaluate_model(reg_y_test, reg_orig_yhat_cnn3)\n",
    "print('CNN3 Regular (precision, recall, F1)       : ', reg_orig_cnn3_result)\n",
    "rol_orig_bot_result = evaluate_model(rol_y_test, rol_orig_yhat_bot)\n",
    "print('BoT Rolled (precision, recall, F1)         : ', rol_orig_bot_result)\n",
    "rol_orig_cnn_result = evaluate_model(rol_y_test, rol_orig_yhat_cnn)\n",
    "print('CNN Rolled (precision, recall, F1)         : ', rol_orig_cnn_result)\n",
    "rol_orig_cnn3_result = evaluate_model(rol_y_test, rol_orig_yhat_cnn3)\n",
    "print('CNN3 Rolled (precision, recall, F1)        : ', rol_orig_cnn3_result)"
   ]
  },
  {
   "cell_type": "code",
   "execution_count": 25,
   "metadata": {},
   "outputs": [],
   "source": [
    "# Load trained models with adjustment of initial weights\n",
    "\n",
    "model_bot_rolled = load_model(f'{MODEL_PATH}BOTModel.h5')\n",
    "# model_bot_regular = load_model(f'{MODEL_PATH}BOTModelRegular.h5')\n",
    "model_cnn3_rolled = load_model(f'{MODEL_PATH}CNN3LayerV2.h5')\n",
    "model_cnn3_regular = load_model(f'{MODEL_PATH}CNN3LayerRegularSet4.h5')\n",
    "model_cnnbaseline_rolled = load_model(f'{MODEL_PATH}CNNBaseline.h5')\n",
    "model_cnnbaseline_regular = load_model(f'{MODEL_PATH}CNNBaselineRegularSet4.h5')\n"
   ]
  },
  {
   "cell_type": "code",
   "execution_count": 27,
   "metadata": {},
   "outputs": [
    {
     "name": "stdout",
     "output_type": "stream",
     "text": [
      "reg_yhat_bot done...\n",
      "reg_yhat_cnn done..., reg_yhat_cnn.shape:  (79925, 4103)\n",
      "reg_yhat_cnn done..., reg_yhat_cnn3.shape:  (79925, 4103)\n",
      "rol_yhat_bot done..., rol_yhat_bot.shape:  (79925, 781)\n",
      "rol_yhat_cnn done..., rol_yhat_cnn.shape: (79925, 781)\n",
      "rol_yhat_cnn3 done..., rol_yhat_cnn3.shape:  (79925, 781)\n"
     ]
    }
   ],
   "source": [
    "# predict for test dataset using various models\n",
    "# reg_yhat_bot = model_bot_regular.predict(x_test)\n",
    "print('reg_yhat_bot done...')\n",
    "reg_yhat_cnn = model_cnnbaseline_regular.predict(x_test)\n",
    "print('reg_yhat_cnn done..., reg_yhat_cnn.shape: ', reg_yhat_cnn.shape)\n",
    "reg_yhat_cnn3 = model_cnn3_regular.predict(x_test)\n",
    "print('reg_yhat_cnn done..., reg_yhat_cnn3.shape: ', reg_yhat_cnn3.shape)\n",
    "\n",
    "\n",
    "rol_yhat_bot = model_bot_rolled.predict(x_test)\n",
    "print('rol_yhat_bot done..., rol_yhat_bot.shape: ', rol_yhat_bot.shape)\n",
    "\n",
    "rol_yhat_cnn = model_cnnbaseline_rolled.predict(x_test)\n",
    "print('rol_yhat_cnn done..., rol_yhat_cnn.shape:', rol_yhat_cnn.shape)\n",
    "\n",
    "rol_yhat_cnn3 = model_cnn3_rolled.predict(x_test)\n",
    "print('rol_yhat_cnn3 done..., rol_yhat_cnn3.shape: ', rol_yhat_cnn3.shape)\n"
   ]
  },
  {
   "cell_type": "code",
   "execution_count": 36,
   "metadata": {},
   "outputs": [
    {
     "name": "stdout",
     "output_type": "stream",
     "text": [
      "CNN Regular (precision, recall, F1)        :  (74.98, 21.91, 33.91)\n",
      "CNN3 Regular (precision, recall, F1)       :  (75.95, 32.44, 45.46)\n",
      "BoT Rolled (precision, recall, F1)         :  (78.58, 31.81, 45.29)\n",
      "CNN Rolled (precision, recall, F1)         :  (79.14, 44.66, 57.1)\n",
      "CNN3 Rolled (precision, recall, F1)        :  (81.13, 43.56, 56.68)\n"
     ]
    }
   ],
   "source": [
    "\n",
    "reg_cnn_result = evaluate_model(reg_y_test, reg_yhat_cnn)\n",
    "print('CNN Regular (precision, recall, F1)        : ', reg_cnn_result)\n",
    "reg_cnn3_result = evaluate_model(reg_y_test, reg_yhat_cnn3)\n",
    "print('CNN3 Regular (precision, recall, F1)       : ', reg_cnn3_result)\n",
    "rol_bot_result = evaluate_model(rol_y_test, rol_yhat_bot)\n",
    "print('BoT Rolled (precision, recall, F1)         : ', rol_bot_result)\n",
    "rol_cnn_result = evaluate_model(rol_y_test, rol_yhat_cnn)\n",
    "print('CNN Rolled (precision, recall, F1)         : ', rol_cnn_result)\n",
    "rol_cnn3_result = evaluate_model(rol_y_test, rol_yhat_cnn3)\n",
    "print('CNN3 Rolled (precision, recall, F1)        : ', rol_cnn3_result)\n"
   ]
  }
 ],
 "metadata": {
  "interpreter": {
   "hash": "d114184c886ba29bffe38c6c6fdadc7ffef7ccc1b8a3a158ab752daf223c4cdc"
  },
  "kernelspec": {
   "display_name": "Python 3.8.12 ('cs598')",
   "language": "python",
   "name": "python3"
  },
  "language_info": {
   "codemirror_mode": {
    "name": "ipython",
    "version": 3
   },
   "file_extension": ".py",
   "mimetype": "text/x-python",
   "name": "python",
   "nbconvert_exporter": "python",
   "pygments_lexer": "ipython3",
   "version": "3.8.12"
  },
  "orig_nbformat": 4
 },
 "nbformat": 4,
 "nbformat_minor": 2
}
