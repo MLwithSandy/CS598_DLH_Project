{
 "cells": [
  {
   "cell_type": "code",
   "execution_count": 2,
   "metadata": {},
   "outputs": [],
   "source": [
    "from __future__ import absolute_import\n",
    "from __future__ import division\n",
    "from __future__ import print_function\n",
    "\n",
    "import csv\n",
    "import pickle5 as pickle\n",
    "import string\n",
    "import gzip\n",
    "\n",
    "from gensim.models.word2vec import Word2Vec\n",
    "\n",
    "DATA_DIR = '../data/'"
   ]
  },
  {
   "cell_type": "code",
   "execution_count": 3,
   "metadata": {},
   "outputs": [
    {
     "name": "stdout",
     "output_type": "stream",
     "text": [
      "len regular_diagnosis:  14222\n"
     ]
    }
   ],
   "source": [
    "regular_diagnosis = pickle.load(open( f'{DATA_DIR}regular_diagnosis.pickle', \"rb\" ) )\n",
    "print('len regular_diagnosis: ', len(regular_diagnosis))"
   ]
  },
  {
   "cell_type": "code",
   "execution_count": 4,
   "metadata": {},
   "outputs": [],
   "source": [
    "filters = '!\"#$%&()*+,-./:;<=>?@[\\]^_`{|}~\\t\\n'\n",
    "tt = str.maketrans(string.digits + filters,\n",
    "                      'd' * len(string.digits) + ' ' * len(filters))\n",
    "\n",
    "with open(f'{DATA_DIR}infrequent_word_mapping.pickle', 'rb') as f:\n",
    "    infrequent_word_mapping = pickle.load(f)\n",
    "\n",
    "seqs = []\n",
    "# with open('notes.csv', 'rb') as f:\n",
    "with gzip.open(f'{DATA_DIR}NOTEEVENTS.csv.gz', 'rt') as f:\n",
    "    reader = csv.reader(f)\n",
    "    for row in reader:\n",
    "        key = (row[1], row[2])\n",
    "        if key in regular_diagnosis:\n",
    "            tokens = row[-1].lower().translate(tt).strip().split()\n",
    "            for i, word in enumerate(tokens):\n",
    "                tokens[i] = infrequent_word_mapping.get(word, word)\n",
    "            seqs.append(tokens)\n"
   ]
  },
  {
   "cell_type": "code",
   "execution_count": 6,
   "metadata": {},
   "outputs": [
    {
     "name": "stdout",
     "output_type": "stream",
     "text": [
      "Building word embeddings.\n"
     ]
    }
   ],
   "source": [
    "print('Building word embeddings.')\n",
    "\n",
    "model = Word2Vec(seqs, vector_size=300, workers=4)\n",
    "model.wv.save_word2vec_format(f'{DATA_DIR}word2vec_embeddings.vec', binary=False)"
   ]
  },
  {
   "cell_type": "code",
   "execution_count": 5,
   "metadata": {},
   "outputs": [
    {
     "name": "stdout",
     "output_type": "stream",
     "text": [
      "53229\n"
     ]
    }
   ],
   "source": [
    "with open(f'{DATA_DIR}word2vec_embeddings.vec', 'rb') as f:\n",
    "    embeddings_dim = int(next(f).split()[0])\n",
    "    print(embeddings_dim)"
   ]
  },
  {
   "cell_type": "code",
   "execution_count": null,
   "metadata": {},
   "outputs": [],
   "source": []
  }
 ],
 "metadata": {
  "interpreter": {
   "hash": "d114184c886ba29bffe38c6c6fdadc7ffef7ccc1b8a3a158ab752daf223c4cdc"
  },
  "kernelspec": {
   "display_name": "Python 3.8.12 ('cs598')",
   "language": "python",
   "name": "python3"
  },
  "language_info": {
   "codemirror_mode": {
    "name": "ipython",
    "version": 3
   },
   "file_extension": ".py",
   "mimetype": "text/x-python",
   "name": "python",
   "nbconvert_exporter": "python",
   "pygments_lexer": "ipython3",
   "version": "3.8.12"
  },
  "orig_nbformat": 4
 },
 "nbformat": 4,
 "nbformat_minor": 2
}
